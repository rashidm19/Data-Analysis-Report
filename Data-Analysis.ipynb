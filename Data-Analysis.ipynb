{
 "cells": [
  {
   "cell_type": "code",
   "execution_count": 1,
   "id": "7ba78879-ea11-4f58-bf45-5b00b8fb9186",
   "metadata": {},
   "outputs": [],
   "source": [
    "import pandas as pd\n",
    "from pandas import read_excel\n",
    "\n",
    "from matplotlib import pyplot as plt\n",
    "\n",
    "import numpy\n",
    "\n",
    "from statistics import mean"
   ]
  },
  {
   "cell_type": "code",
   "execution_count": 2,
   "id": "91b852ef-fe06-4d91-a96f-197a2a0c8558",
   "metadata": {},
   "outputs": [],
   "source": [
    "file = 'Data371.xlsx'"
   ]
  },
  {
   "cell_type": "code",
   "execution_count": 3,
   "id": "04204feb-4cfa-484e-ae53-d46fee234e48",
   "metadata": {},
   "outputs": [],
   "source": [
    "bank_sauga = read_excel(file,0)\n",
    "goldenhouse = read_excel(file,1)"
   ]
  },
  {
   "cell_type": "code",
   "execution_count": 4,
   "id": "9f3ee480-b3e9-444c-b70e-c42d68ae99fe",
   "metadata": {},
   "outputs": [
    {
     "name": "stdout",
     "output_type": "stream",
     "text": [
      "<class 'pandas.core.frame.DataFrame'>\n",
      "RangeIndex: 430 entries, 0 to 429\n",
      "Data columns (total 6 columns):\n",
      " #   Column   Non-Null Count  Dtype \n",
      "---  ------   --------------  ----- \n",
      " 0   Day      430 non-null    object\n",
      " 1   Hour     430 non-null    object\n",
      " 2   Main     430 non-null    int64 \n",
      " 3   Branch1  430 non-null    int64 \n",
      " 4   Branch2  430 non-null    int64 \n",
      " 5   Branch3  430 non-null    int64 \n",
      "dtypes: int64(4), object(2)\n",
      "memory usage: 20.3+ KB\n"
     ]
    }
   ],
   "source": [
    "bank_sauga.info()"
   ]
  },
  {
   "cell_type": "code",
   "execution_count": 5,
   "id": "84c1d560-20f6-4d44-8e2e-b8396b7e2a0e",
   "metadata": {},
   "outputs": [
    {
     "data": {
      "text/html": [
       "<div>\n",
       "<style scoped>\n",
       "    .dataframe tbody tr th:only-of-type {\n",
       "        vertical-align: middle;\n",
       "    }\n",
       "\n",
       "    .dataframe tbody tr th {\n",
       "        vertical-align: top;\n",
       "    }\n",
       "\n",
       "    .dataframe thead th {\n",
       "        text-align: right;\n",
       "    }\n",
       "</style>\n",
       "<table border=\"1\" class=\"dataframe\">\n",
       "  <thead>\n",
       "    <tr style=\"text-align: right;\">\n",
       "      <th></th>\n",
       "      <th>Main</th>\n",
       "      <th>Branch1</th>\n",
       "      <th>Branch2</th>\n",
       "      <th>Branch3</th>\n",
       "    </tr>\n",
       "  </thead>\n",
       "  <tbody>\n",
       "    <tr>\n",
       "      <th>count</th>\n",
       "      <td>430.000000</td>\n",
       "      <td>430.000000</td>\n",
       "      <td>430.000000</td>\n",
       "      <td>430.000000</td>\n",
       "    </tr>\n",
       "    <tr>\n",
       "      <th>mean</th>\n",
       "      <td>53.462791</td>\n",
       "      <td>27.365116</td>\n",
       "      <td>27.290698</td>\n",
       "      <td>27.134884</td>\n",
       "    </tr>\n",
       "    <tr>\n",
       "      <th>std</th>\n",
       "      <td>28.321288</td>\n",
       "      <td>14.994457</td>\n",
       "      <td>14.749712</td>\n",
       "      <td>14.604672</td>\n",
       "    </tr>\n",
       "    <tr>\n",
       "      <th>min</th>\n",
       "      <td>13.000000</td>\n",
       "      <td>5.000000</td>\n",
       "      <td>3.000000</td>\n",
       "      <td>4.000000</td>\n",
       "    </tr>\n",
       "    <tr>\n",
       "      <th>25%</th>\n",
       "      <td>30.000000</td>\n",
       "      <td>16.000000</td>\n",
       "      <td>16.000000</td>\n",
       "      <td>16.000000</td>\n",
       "    </tr>\n",
       "    <tr>\n",
       "      <th>50%</th>\n",
       "      <td>50.000000</td>\n",
       "      <td>25.000000</td>\n",
       "      <td>24.000000</td>\n",
       "      <td>25.000000</td>\n",
       "    </tr>\n",
       "    <tr>\n",
       "      <th>75%</th>\n",
       "      <td>69.000000</td>\n",
       "      <td>34.000000</td>\n",
       "      <td>36.000000</td>\n",
       "      <td>35.000000</td>\n",
       "    </tr>\n",
       "    <tr>\n",
       "      <th>max</th>\n",
       "      <td>158.000000</td>\n",
       "      <td>87.000000</td>\n",
       "      <td>79.000000</td>\n",
       "      <td>74.000000</td>\n",
       "    </tr>\n",
       "  </tbody>\n",
       "</table>\n",
       "</div>"
      ],
      "text/plain": [
       "             Main     Branch1     Branch2     Branch3\n",
       "count  430.000000  430.000000  430.000000  430.000000\n",
       "mean    53.462791   27.365116   27.290698   27.134884\n",
       "std     28.321288   14.994457   14.749712   14.604672\n",
       "min     13.000000    5.000000    3.000000    4.000000\n",
       "25%     30.000000   16.000000   16.000000   16.000000\n",
       "50%     50.000000   25.000000   24.000000   25.000000\n",
       "75%     69.000000   34.000000   36.000000   35.000000\n",
       "max    158.000000   87.000000   79.000000   74.000000"
      ]
     },
     "execution_count": 5,
     "metadata": {},
     "output_type": "execute_result"
    }
   ],
   "source": [
    "bank_sauga.describe()"
   ]
  },
  {
   "cell_type": "code",
   "execution_count": 6,
   "id": "cc8cd4ab-3281-47f7-811a-271fe0ee4744",
   "metadata": {},
   "outputs": [
    {
     "data": {
      "text/plain": [
       "Index(['Day', 'Hour', 'Main', 'Branch1', 'Branch2', 'Branch3'], dtype='object')"
      ]
     },
     "execution_count": 6,
     "metadata": {},
     "output_type": "execute_result"
    }
   ],
   "source": [
    "bank_sauga.columns"
   ]
  },
  {
   "cell_type": "code",
   "execution_count": 7,
   "id": "6cf31ef4-8fd3-430c-9579-4591572defd6",
   "metadata": {},
   "outputs": [
    {
     "data": {
      "text/plain": [
       "RangeIndex(start=0, stop=430, step=1)"
      ]
     },
     "execution_count": 7,
     "metadata": {},
     "output_type": "execute_result"
    }
   ],
   "source": [
    "bank_sauga.index"
   ]
  },
  {
   "cell_type": "code",
   "execution_count": 8,
   "id": "51e2003c-a535-4412-aa65-8c54184e7a39",
   "metadata": {},
   "outputs": [
    {
     "data": {
      "text/plain": [
       "Day          6\n",
       "Hour         8\n",
       "Main       105\n",
       "Branch1     68\n",
       "Branch2     66\n",
       "Branch3     64\n",
       "dtype: int64"
      ]
     },
     "execution_count": 8,
     "metadata": {},
     "output_type": "execute_result"
    }
   ],
   "source": [
    "bank_sauga.nunique()"
   ]
  },
  {
   "cell_type": "code",
   "execution_count": 9,
   "id": "56c35488-dbe7-42bf-a87e-630a95df62b8",
   "metadata": {},
   "outputs": [],
   "source": [
    "#total number of customers in a specific branch\n",
    "total_customers= {'Main':22989,'Branch1': 11767, 'Branch2':11735, 'Branch3': 11668}"
   ]
  },
  {
   "cell_type": "code",
   "execution_count": 10,
   "id": "1f1d61e2-9be6-4a6e-961a-471f0478067e",
   "metadata": {},
   "outputs": [
    {
     "data": {
      "text/plain": [
       "Main\n",
       "22     16\n",
       "26     14\n",
       "24     10\n",
       "70      9\n",
       "25      9\n",
       "       ..\n",
       "90      1\n",
       "86      1\n",
       "15      1\n",
       "16      1\n",
       "158     1\n",
       "Length: 105, dtype: int64"
      ]
     },
     "execution_count": 10,
     "metadata": {},
     "output_type": "execute_result"
    }
   ],
   "source": [
    "bank_sauga.value_counts(\"Main\")\n",
    "# bank_sauga.querry('Main >20')"
   ]
  },
  {
   "cell_type": "code",
   "execution_count": 11,
   "id": "9d567f30-c2c8-4cd4-802d-02f016009efe",
   "metadata": {},
   "outputs": [
    {
     "data": {
      "text/plain": [
       "Branch1\n",
       "17    27\n",
       "32    18\n",
       "13    18\n",
       "27    17\n",
       "30    16\n",
       "      ..\n",
       "55     1\n",
       "54     1\n",
       "52     1\n",
       "51     1\n",
       "87     1\n",
       "Length: 68, dtype: int64"
      ]
     },
     "execution_count": 11,
     "metadata": {},
     "output_type": "execute_result"
    }
   ],
   "source": [
    "bank_sauga.value_counts(\"Branch1\")"
   ]
  },
  {
   "cell_type": "code",
   "execution_count": 12,
   "id": "18f97fee-c962-419d-85eb-c5c9f5d00d9e",
   "metadata": {},
   "outputs": [
    {
     "data": {
      "text/html": [
       "<div>\n",
       "<style scoped>\n",
       "    .dataframe tbody tr th:only-of-type {\n",
       "        vertical-align: middle;\n",
       "    }\n",
       "\n",
       "    .dataframe tbody tr th {\n",
       "        vertical-align: top;\n",
       "    }\n",
       "\n",
       "    .dataframe thead th {\n",
       "        text-align: right;\n",
       "    }\n",
       "</style>\n",
       "<table border=\"1\" class=\"dataframe\">\n",
       "  <thead>\n",
       "    <tr style=\"text-align: right;\">\n",
       "      <th></th>\n",
       "      <th>Main</th>\n",
       "      <th>Branch1</th>\n",
       "      <th>Branch2</th>\n",
       "      <th>Branch3</th>\n",
       "    </tr>\n",
       "    <tr>\n",
       "      <th>Day</th>\n",
       "      <th></th>\n",
       "      <th></th>\n",
       "      <th></th>\n",
       "      <th></th>\n",
       "    </tr>\n",
       "  </thead>\n",
       "  <tbody>\n",
       "    <tr>\n",
       "      <th>Fri</th>\n",
       "      <td>75.375000</td>\n",
       "      <td>40.0375</td>\n",
       "      <td>39.0500</td>\n",
       "      <td>38.950000</td>\n",
       "    </tr>\n",
       "    <tr>\n",
       "      <th>Mon</th>\n",
       "      <td>44.525000</td>\n",
       "      <td>22.6000</td>\n",
       "      <td>22.8750</td>\n",
       "      <td>22.612500</td>\n",
       "    </tr>\n",
       "    <tr>\n",
       "      <th>Sat</th>\n",
       "      <td>91.166667</td>\n",
       "      <td>47.2000</td>\n",
       "      <td>45.3000</td>\n",
       "      <td>45.733333</td>\n",
       "    </tr>\n",
       "    <tr>\n",
       "      <th>Thu</th>\n",
       "      <td>43.287500</td>\n",
       "      <td>22.0250</td>\n",
       "      <td>22.1250</td>\n",
       "      <td>22.400000</td>\n",
       "    </tr>\n",
       "    <tr>\n",
       "      <th>Tue</th>\n",
       "      <td>45.062500</td>\n",
       "      <td>22.6875</td>\n",
       "      <td>22.5125</td>\n",
       "      <td>22.362500</td>\n",
       "    </tr>\n",
       "    <tr>\n",
       "      <th>Wed</th>\n",
       "      <td>44.925000</td>\n",
       "      <td>22.0375</td>\n",
       "      <td>23.1375</td>\n",
       "      <td>22.375000</td>\n",
       "    </tr>\n",
       "  </tbody>\n",
       "</table>\n",
       "</div>"
      ],
      "text/plain": [
       "          Main  Branch1  Branch2    Branch3\n",
       "Day                                        \n",
       "Fri  75.375000  40.0375  39.0500  38.950000\n",
       "Mon  44.525000  22.6000  22.8750  22.612500\n",
       "Sat  91.166667  47.2000  45.3000  45.733333\n",
       "Thu  43.287500  22.0250  22.1250  22.400000\n",
       "Tue  45.062500  22.6875  22.5125  22.362500\n",
       "Wed  44.925000  22.0375  23.1375  22.375000"
      ]
     },
     "execution_count": 12,
     "metadata": {},
     "output_type": "execute_result"
    }
   ],
   "source": [
    "bank_sauga.groupby(by='Day').mean()"
   ]
  },
  {
   "cell_type": "code",
   "execution_count": 13,
   "id": "2c14fda1-6d55-4691-99ae-321647841cdd",
   "metadata": {},
   "outputs": [
    {
     "data": {
      "text/html": [
       "<div>\n",
       "<style scoped>\n",
       "    .dataframe tbody tr th:only-of-type {\n",
       "        vertical-align: middle;\n",
       "    }\n",
       "\n",
       "    .dataframe tbody tr th {\n",
       "        vertical-align: top;\n",
       "    }\n",
       "\n",
       "    .dataframe thead th {\n",
       "        text-align: right;\n",
       "    }\n",
       "</style>\n",
       "<table border=\"1\" class=\"dataframe\">\n",
       "  <thead>\n",
       "    <tr style=\"text-align: right;\">\n",
       "      <th></th>\n",
       "      <th>Hour</th>\n",
       "      <th>Main</th>\n",
       "      <th>Branch1</th>\n",
       "      <th>Branch2</th>\n",
       "      <th>Branch3</th>\n",
       "    </tr>\n",
       "    <tr>\n",
       "      <th>Day</th>\n",
       "      <th></th>\n",
       "      <th></th>\n",
       "      <th></th>\n",
       "      <th></th>\n",
       "      <th></th>\n",
       "    </tr>\n",
       "  </thead>\n",
       "  <tbody>\n",
       "    <tr>\n",
       "      <th>Fri</th>\n",
       "      <td>1 to 2</td>\n",
       "      <td>27</td>\n",
       "      <td>12</td>\n",
       "      <td>15</td>\n",
       "      <td>11</td>\n",
       "    </tr>\n",
       "    <tr>\n",
       "      <th>Mon</th>\n",
       "      <td>1 to 2</td>\n",
       "      <td>16</td>\n",
       "      <td>6</td>\n",
       "      <td>3</td>\n",
       "      <td>4</td>\n",
       "    </tr>\n",
       "    <tr>\n",
       "      <th>Sat</th>\n",
       "      <td>10 to 11</td>\n",
       "      <td>41</td>\n",
       "      <td>26</td>\n",
       "      <td>20</td>\n",
       "      <td>17</td>\n",
       "    </tr>\n",
       "    <tr>\n",
       "      <th>Thu</th>\n",
       "      <td>1 to 2</td>\n",
       "      <td>17</td>\n",
       "      <td>5</td>\n",
       "      <td>7</td>\n",
       "      <td>7</td>\n",
       "    </tr>\n",
       "    <tr>\n",
       "      <th>Tue</th>\n",
       "      <td>1 to 2</td>\n",
       "      <td>13</td>\n",
       "      <td>7</td>\n",
       "      <td>7</td>\n",
       "      <td>6</td>\n",
       "    </tr>\n",
       "    <tr>\n",
       "      <th>Wed</th>\n",
       "      <td>1 to 2</td>\n",
       "      <td>15</td>\n",
       "      <td>5</td>\n",
       "      <td>8</td>\n",
       "      <td>5</td>\n",
       "    </tr>\n",
       "  </tbody>\n",
       "</table>\n",
       "</div>"
      ],
      "text/plain": [
       "         Hour  Main  Branch1  Branch2  Branch3\n",
       "Day                                           \n",
       "Fri    1 to 2    27       12       15       11\n",
       "Mon    1 to 2    16        6        3        4\n",
       "Sat  10 to 11    41       26       20       17\n",
       "Thu    1 to 2    17        5        7        7\n",
       "Tue    1 to 2    13        7        7        6\n",
       "Wed    1 to 2    15        5        8        5"
      ]
     },
     "execution_count": 13,
     "metadata": {},
     "output_type": "execute_result"
    }
   ],
   "source": [
    "bank_sauga.groupby(by='Day').min()"
   ]
  },
  {
   "cell_type": "code",
   "execution_count": 14,
   "id": "54ee0ba7-a6bf-4ace-85b4-81b0fc2c1fd4",
   "metadata": {},
   "outputs": [
    {
     "data": {
      "text/html": [
       "<div>\n",
       "<style scoped>\n",
       "    .dataframe tbody tr th:only-of-type {\n",
       "        vertical-align: middle;\n",
       "    }\n",
       "\n",
       "    .dataframe tbody tr th {\n",
       "        vertical-align: top;\n",
       "    }\n",
       "\n",
       "    .dataframe thead th {\n",
       "        text-align: right;\n",
       "    }\n",
       "</style>\n",
       "<table border=\"1\" class=\"dataframe\">\n",
       "  <thead>\n",
       "    <tr style=\"text-align: right;\">\n",
       "      <th></th>\n",
       "      <th>Hour</th>\n",
       "      <th>Main</th>\n",
       "      <th>Branch1</th>\n",
       "      <th>Branch2</th>\n",
       "      <th>Branch3</th>\n",
       "    </tr>\n",
       "    <tr>\n",
       "      <th>Day</th>\n",
       "      <th></th>\n",
       "      <th></th>\n",
       "      <th></th>\n",
       "      <th></th>\n",
       "      <th></th>\n",
       "    </tr>\n",
       "  </thead>\n",
       "  <tbody>\n",
       "    <tr>\n",
       "      <th>Fri</th>\n",
       "      <td>Noon to 1</td>\n",
       "      <td>139</td>\n",
       "      <td>74</td>\n",
       "      <td>71</td>\n",
       "      <td>71</td>\n",
       "    </tr>\n",
       "    <tr>\n",
       "      <th>Mon</th>\n",
       "      <td>Noon to 1</td>\n",
       "      <td>96</td>\n",
       "      <td>48</td>\n",
       "      <td>42</td>\n",
       "      <td>47</td>\n",
       "    </tr>\n",
       "    <tr>\n",
       "      <th>Sat</th>\n",
       "      <td>9 to 10</td>\n",
       "      <td>158</td>\n",
       "      <td>87</td>\n",
       "      <td>79</td>\n",
       "      <td>74</td>\n",
       "    </tr>\n",
       "    <tr>\n",
       "      <th>Thu</th>\n",
       "      <td>Noon to 1</td>\n",
       "      <td>85</td>\n",
       "      <td>49</td>\n",
       "      <td>49</td>\n",
       "      <td>44</td>\n",
       "    </tr>\n",
       "    <tr>\n",
       "      <th>Tue</th>\n",
       "      <td>Noon to 1</td>\n",
       "      <td>87</td>\n",
       "      <td>48</td>\n",
       "      <td>55</td>\n",
       "      <td>52</td>\n",
       "    </tr>\n",
       "    <tr>\n",
       "      <th>Wed</th>\n",
       "      <td>Noon to 1</td>\n",
       "      <td>91</td>\n",
       "      <td>47</td>\n",
       "      <td>43</td>\n",
       "      <td>49</td>\n",
       "    </tr>\n",
       "  </tbody>\n",
       "</table>\n",
       "</div>"
      ],
      "text/plain": [
       "          Hour  Main  Branch1  Branch2  Branch3\n",
       "Day                                            \n",
       "Fri  Noon to 1   139       74       71       71\n",
       "Mon  Noon to 1    96       48       42       47\n",
       "Sat    9 to 10   158       87       79       74\n",
       "Thu  Noon to 1    85       49       49       44\n",
       "Tue  Noon to 1    87       48       55       52\n",
       "Wed  Noon to 1    91       47       43       49"
      ]
     },
     "execution_count": 14,
     "metadata": {},
     "output_type": "execute_result"
    }
   ],
   "source": [
    "bank_sauga.groupby(by='Day').max()"
   ]
  },
  {
   "cell_type": "code",
   "execution_count": 15,
   "id": "86b0b150-ee12-4a1c-bb6c-c40b15d77ad0",
   "metadata": {},
   "outputs": [
    {
     "data": {
      "text/html": [
       "<div>\n",
       "<style scoped>\n",
       "    .dataframe tbody tr th:only-of-type {\n",
       "        vertical-align: middle;\n",
       "    }\n",
       "\n",
       "    .dataframe tbody tr th {\n",
       "        vertical-align: top;\n",
       "    }\n",
       "\n",
       "    .dataframe thead th {\n",
       "        text-align: right;\n",
       "    }\n",
       "</style>\n",
       "<table border=\"1\" class=\"dataframe\">\n",
       "  <thead>\n",
       "    <tr style=\"text-align: right;\">\n",
       "      <th></th>\n",
       "      <th>Main</th>\n",
       "      <th>Branch1</th>\n",
       "      <th>Branch2</th>\n",
       "      <th>Branch3</th>\n",
       "    </tr>\n",
       "  </thead>\n",
       "  <tbody>\n",
       "    <tr>\n",
       "      <th>count</th>\n",
       "      <td>430.000000</td>\n",
       "      <td>430.000000</td>\n",
       "      <td>430.000000</td>\n",
       "      <td>430.000000</td>\n",
       "    </tr>\n",
       "    <tr>\n",
       "      <th>mean</th>\n",
       "      <td>53.462791</td>\n",
       "      <td>27.365116</td>\n",
       "      <td>27.290698</td>\n",
       "      <td>27.134884</td>\n",
       "    </tr>\n",
       "    <tr>\n",
       "      <th>std</th>\n",
       "      <td>28.321288</td>\n",
       "      <td>14.994457</td>\n",
       "      <td>14.749712</td>\n",
       "      <td>14.604672</td>\n",
       "    </tr>\n",
       "    <tr>\n",
       "      <th>min</th>\n",
       "      <td>13.000000</td>\n",
       "      <td>5.000000</td>\n",
       "      <td>3.000000</td>\n",
       "      <td>4.000000</td>\n",
       "    </tr>\n",
       "    <tr>\n",
       "      <th>25%</th>\n",
       "      <td>30.000000</td>\n",
       "      <td>16.000000</td>\n",
       "      <td>16.000000</td>\n",
       "      <td>16.000000</td>\n",
       "    </tr>\n",
       "    <tr>\n",
       "      <th>50%</th>\n",
       "      <td>50.000000</td>\n",
       "      <td>25.000000</td>\n",
       "      <td>24.000000</td>\n",
       "      <td>25.000000</td>\n",
       "    </tr>\n",
       "    <tr>\n",
       "      <th>75%</th>\n",
       "      <td>69.000000</td>\n",
       "      <td>34.000000</td>\n",
       "      <td>36.000000</td>\n",
       "      <td>35.000000</td>\n",
       "    </tr>\n",
       "    <tr>\n",
       "      <th>max</th>\n",
       "      <td>158.000000</td>\n",
       "      <td>87.000000</td>\n",
       "      <td>79.000000</td>\n",
       "      <td>74.000000</td>\n",
       "    </tr>\n",
       "  </tbody>\n",
       "</table>\n",
       "</div>"
      ],
      "text/plain": [
       "             Main     Branch1     Branch2     Branch3\n",
       "count  430.000000  430.000000  430.000000  430.000000\n",
       "mean    53.462791   27.365116   27.290698   27.134884\n",
       "std     28.321288   14.994457   14.749712   14.604672\n",
       "min     13.000000    5.000000    3.000000    4.000000\n",
       "25%     30.000000   16.000000   16.000000   16.000000\n",
       "50%     50.000000   25.000000   24.000000   25.000000\n",
       "75%     69.000000   34.000000   36.000000   35.000000\n",
       "max    158.000000   87.000000   79.000000   74.000000"
      ]
     },
     "execution_count": 15,
     "metadata": {},
     "output_type": "execute_result"
    }
   ],
   "source": [
    "bank_sauga.describe()"
   ]
  },
  {
   "cell_type": "code",
   "execution_count": 16,
   "id": "36e3a0ee-4237-4607-9f45-a6428e78466d",
   "metadata": {},
   "outputs": [],
   "source": [
    "c = 0\n",
    "arr = []\n",
    "while c< max(bank_sauga.count()):\n",
    "    arr.append(bank_sauga.iloc[c:c+43])\n",
    "    c +=43\n"
   ]
  },
  {
   "cell_type": "code",
   "execution_count": 17,
   "id": "e3dcbd87-87b3-4198-9ad8-7d79034a5901",
   "metadata": {},
   "outputs": [],
   "source": [
    "hp = {}\n",
    "hp['week1'] = arr[0]\n",
    "hp['week2'] = arr[1]\n",
    "hp['week3'] = arr[2]\n",
    "hp['week4'] = arr[3]\n",
    "hp['week5'] = arr[4]\n",
    "hp['week6'] = arr[5]\n",
    "hp['week7'] = arr[6]\n",
    "hp['week8'] = arr[7]\n",
    "hp['week9'] = arr[8]\n",
    "hp['week10'] = arr[9]"
   ]
  },
  {
   "cell_type": "code",
   "execution_count": 18,
   "id": "02235f01-92ff-4354-b2cf-a4b85603baa3",
   "metadata": {},
   "outputs": [
    {
     "name": "stdout",
     "output_type": "stream",
     "text": [
      "________________\n",
      "Minimum number of customers coming to a Main Branch\n",
      "Hour\n",
      "1 to 2        54.740000\n",
      "10 to 11      30.900000\n",
      "11 to noon    78.850000\n",
      "2 to 3        36.740000\n",
      "3 to 4        26.780000\n",
      "4 to 5        74.400000\n",
      "9 to 10       44.216667\n",
      "Noon to 1     82.360000\n",
      "Name: Main, dtype: float64\n",
      "________________\n",
      "Minimum number of customers coming to a Branch 1\n",
      "Hour\n",
      "1 to 2        27.900000\n",
      "10 to 11      16.400000\n",
      "11 to noon    39.283333\n",
      "2 to 3        19.700000\n",
      "3 to 4        14.080000\n",
      "4 to 5        37.820000\n",
      "9 to 10       22.616667\n",
      "Noon to 1     41.880000\n",
      "Name: Branch1, dtype: float64\n",
      "________________\n",
      "Minimum number of customers coming to a Branch 2\n",
      "Hour\n",
      "1 to 2        27.820000\n",
      "10 to 11      16.000000\n",
      "11 to noon    38.566667\n",
      "2 to 3        18.940000\n",
      "3 to 4        14.140000\n",
      "4 to 5        38.480000\n",
      "9 to 10       22.683333\n",
      "Noon to 1     42.620000\n",
      "Name: Branch2, dtype: float64\n",
      "________________\n",
      "Minimum number of customers coming to a Branch 3\n",
      "Hour\n",
      "1 to 2        27.740000\n",
      "10 to 11      16.900000\n",
      "11 to noon    39.600000\n",
      "2 to 3        19.900000\n",
      "3 to 4        13.000000\n",
      "4 to 5        37.680000\n",
      "9 to 10       22.083333\n",
      "Noon to 1     40.740000\n",
      "Name: Branch3, dtype: float64\n"
     ]
    }
   ],
   "source": [
    "# Average number of customers coming to each branch\n",
    "print('________________')\n",
    "print(\"Minimum number of customers coming to a Main Branch\")\n",
    "print(bank_sauga['Main'].groupby(bank_sauga['Hour']).mean())\n",
    "print('________________')\n",
    "\n",
    "print(\"Minimum number of customers coming to a Branch 1\")\n",
    "print(bank_sauga['Branch1'].groupby(bank_sauga['Hour']).mean())\n",
    "print('________________')\n",
    "\n",
    "print(\"Minimum number of customers coming to a Branch 2\")\n",
    "print(bank_sauga['Branch2'].groupby(bank_sauga['Hour']).mean())\n",
    "print('________________')\n",
    "\n",
    "print(\"Minimum number of customers coming to a Branch 3\")\n",
    "print(bank_sauga['Branch3'].groupby(bank_sauga['Hour']).mean())"
   ]
  },
  {
   "cell_type": "code",
   "execution_count": 19,
   "id": "98c0e809-53a8-4b85-a4bb-7bb62b5978fe",
   "metadata": {},
   "outputs": [
    {
     "name": "stdout",
     "output_type": "stream",
     "text": [
      "________________\n",
      "Maximum number of customers coming to a Main Branch\n",
      "Hour\n",
      "1 to 2         88\n",
      "10 to 11       67\n",
      "11 to noon    158\n",
      "2 to 3         69\n",
      "3 to 4         44\n",
      "4 to 5        123\n",
      "9 to 10        93\n",
      "Noon to 1     139\n",
      "Name: Main, dtype: int64\n",
      "________________\n",
      "Maximum number of customers coming to a Branch 1\n",
      "Hour\n",
      "1 to 2        59\n",
      "10 to 11      39\n",
      "11 to noon    87\n",
      "2 to 3        35\n",
      "3 to 4        33\n",
      "4 to 5        74\n",
      "9 to 10       49\n",
      "Noon to 1     73\n",
      "Name: Branch1, dtype: int64\n",
      "________________\n",
      "Maximum number of customers coming to a Branch 2\n",
      "Hour\n",
      "1 to 2        61\n",
      "10 to 11      34\n",
      "11 to noon    79\n",
      "2 to 3        39\n",
      "3 to 4        30\n",
      "4 to 5        71\n",
      "9 to 10       52\n",
      "Noon to 1     71\n",
      "Name: Branch2, dtype: int64\n",
      "________________\n",
      "Maximum number of customers coming to a Branch 3\n",
      "Hour\n",
      "1 to 2        50\n",
      "10 to 11      39\n",
      "11 to noon    74\n",
      "2 to 3        37\n",
      "3 to 4        28\n",
      "4 to 5        68\n",
      "9 to 10       50\n",
      "Noon to 1     71\n",
      "Name: Branch3, dtype: int64\n"
     ]
    }
   ],
   "source": [
    "# Maximum number of customers coming to each branch\n",
    "print('________________')\n",
    "print(\"Maximum number of customers coming to a Main Branch\")\n",
    "print(bank_sauga['Main'].groupby(bank_sauga['Hour']).max())\n",
    "print('________________')\n",
    "\n",
    "print(\"Maximum number of customers coming to a Branch 1\")\n",
    "print(bank_sauga['Branch1'].groupby(bank_sauga['Hour']).max())\n",
    "print('________________')\n",
    "\n",
    "print(\"Maximum number of customers coming to a Branch 2\")\n",
    "print(bank_sauga['Branch2'].groupby(bank_sauga['Hour']).max())\n",
    "print('________________')\n",
    "\n",
    "print(\"Maximum number of customers coming to a Branch 3\")\n",
    "print(bank_sauga['Branch3'].groupby(bank_sauga['Hour']).max())"
   ]
  },
  {
   "cell_type": "code",
   "execution_count": 20,
   "id": "c4e7a72e-f467-4d48-b3c9-b69e7b10add8",
   "metadata": {},
   "outputs": [
    {
     "name": "stdout",
     "output_type": "stream",
     "text": [
      "________________\n",
      "Minimum number of customers coming to a Main Branch\n",
      "Hour\n",
      "1 to 2        33\n",
      "10 to 11      13\n",
      "11 to noon    48\n",
      "2 to 3        19\n",
      "3 to 4        17\n",
      "4 to 5        50\n",
      "9 to 10       22\n",
      "Noon to 1     46\n",
      "Name: Main, dtype: int64\n",
      "________________\n",
      "Minimum number of customers coming to a Branch 1\n",
      "Hour\n",
      "1 to 2        13\n",
      "10 to 11       5\n",
      "11 to noon    20\n",
      "2 to 3         9\n",
      "3 to 4         5\n",
      "4 to 5        20\n",
      "9 to 10        8\n",
      "Noon to 1     22\n",
      "Name: Branch1, dtype: int64\n",
      "________________\n",
      "Minimum number of customers coming to a Branch 2\n",
      "Hour\n",
      "1 to 2        14\n",
      "10 to 11       3\n",
      "11 to noon    22\n",
      "2 to 3         8\n",
      "3 to 4         7\n",
      "4 to 5        22\n",
      "9 to 10        9\n",
      "Noon to 1     24\n",
      "Name: Branch2, dtype: int64\n",
      "________________\n",
      "Minimum number of customers coming to a Branch 3\n",
      "Hour\n",
      "1 to 2        13\n",
      "10 to 11       5\n",
      "11 to noon    17\n",
      "2 to 3         8\n",
      "3 to 4         4\n",
      "4 to 5        23\n",
      "9 to 10        7\n",
      "Noon to 1     22\n",
      "Name: Branch3, dtype: int64\n"
     ]
    }
   ],
   "source": [
    "# Minimum number of customers coming to each branch\n",
    "print('________________')\n",
    "print(\"Minimum number of customers coming to a Main Branch\")\n",
    "print(bank_sauga['Main'].groupby(bank_sauga['Hour']).min())\n",
    "print('________________')\n",
    "\n",
    "print(\"Minimum number of customers coming to a Branch 1\")\n",
    "print(bank_sauga['Branch1'].groupby(bank_sauga['Hour']).min())\n",
    "print('________________')\n",
    "\n",
    "print(\"Minimum number of customers coming to a Branch 2\")\n",
    "print(bank_sauga['Branch2'].groupby(bank_sauga['Hour']).min())\n",
    "print('________________')\n",
    "\n",
    "print(\"Minimum number of customers coming to a Branch 3\")\n",
    "print(bank_sauga['Branch3'].groupby(bank_sauga['Hour']).min())\n"
   ]
  },
  {
   "cell_type": "code",
   "execution_count": 21,
   "id": "ece5f752-2a32-41cf-9b92-d6e90bf56406",
   "metadata": {},
   "outputs": [
    {
     "data": {
      "image/png": "[encoded data removed]",
      "text/plain": [
       "<Figure size 432x288 with 1 Axes>"
      ]
     },
     "metadata": {
      "needs_background": "light"
     },
     "output_type": "display_data"
    },
    {
     "data": {
      "image/png": "[encoded data removed]",
      "text/plain": [
       "<Figure size 432x288 with 1 Axes>"
      ]
     },
     "metadata": {
      "needs_background": "light"
     },
     "output_type": "display_data"
    },
    {
     "data": {
      "image/png": "[encoded data removed]",
      "text/plain": [
       "<Figure size 432x288 with 1 Axes>"
      ]
     },
     "metadata": {
      "needs_background": "light"
     },
     "output_type": "display_data"
    },
    {
     "data": {
      "image/png": "[encoded data removed]",
      "text/plain": [
       "<Figure size 432x288 with 1 Axes>"
      ]
     },
     "metadata": {
      "needs_background": "light"
     },
     "output_type": "display_data"
    },
    {
     "data": {
      "image/png": "[encoded data removed]",
      "text/plain": [
       "<Figure size 432x288 with 1 Axes>"
      ]
     },
     "metadata": {
      "needs_background": "light"
     },
     "output_type": "display_data"
    },
    {
     "data": {
      "image/png": "[encoded data removed]",
      "text/plain": [
       "<Figure size 432x288 with 1 Axes>"
      ]
     },
     "metadata": {
      "needs_background": "light"
     },
     "output_type": "display_data"
    },
    {
     "data": {
      "image/png": "[encoded data removed]",
      "text/plain": [
       "<Figure size 432x288 with 1 Axes>"
      ]
     },
     "metadata": {
      "needs_background": "light"
     },
     "output_type": "display_data"
    },
    {
     "data": {
      "image/png": "[encoded data removed]",
      "text/plain": [
       "<Figure size 432x288 with 1 Axes>"
      ]
     },
     "metadata": {
      "needs_background": "light"
     },
     "output_type": "display_data"
    },
    {
     "data": {
      "image/png": "[encoded data removed]",
      "text/plain": [
       "<Figure size 432x288 with 1 Axes>"
      ]
     },
     "metadata": {
      "needs_background": "light"
     },
     "output_type": "display_data"
    },
    {
     "data": {
      "image/png": "[encoded data removed]",
      "text/plain": [
       "<Figure size 432x288 with 1 Axes>"
      ]
     },
     "metadata": {
      "needs_background": "light"
     },
     "output_type": "display_data"
    }
   ],
   "source": [
    "w =1\n",
    "for plot in arr:\n",
    "    wk = \"Week \" +str(w)\n",
    "    plot.plot(x='Day',y=['Main', 'Branch1','Branch2', 'Branch3'], kind=\"box\", title = wk)\n",
    "    w+=1\n",
    "    "
   ]
  },
  {
   "cell_type": "code",
   "execution_count": 22,
   "id": "b7a08320-c0ed-4ba0-a51a-75fb4d9ec28e",
   "metadata": {},
   "outputs": [
    {
     "data": {
      "text/plain": [
       "<AxesSubplot:>"
      ]
     },
     "execution_count": 22,
     "metadata": {},
     "output_type": "execute_result"
    },
    {
     "data": {
      "image/png": "[encoded data removed]",
      "text/plain": [
       "<Figure size 432x288 with 1 Axes>"
      ]
     },
     "metadata": {
      "needs_background": "light"
     },
     "output_type": "display_data"
    }
   ],
   "source": [
    "hp['week1'].plot(y=['Main', 'Branch1','Branch2', 'Branch3'])"
   ]
  },
  {
   "cell_type": "code",
   "execution_count": 23,
   "id": "2da3062e-408d-4b76-b4cd-4db1ca81368a",
   "metadata": {},
   "outputs": [
    {
     "name": "stdout",
     "output_type": "stream",
     "text": [
      "Information about week 1\n",
      "    Day        Hour  Main  Branch1  Branch2  Branch3\n",
      "42  Sat  11 to noon   135       76       79       71\n",
      "35  Fri   Noon to 1   129       64       61       71\n",
      "39  Fri      4 to 5   110       56       59       48\n",
      "34  Fri  11 to noon    94       66       48       47\n",
      "40  Sat     9 to 10    86       38       30       32\n",
      "____\n",
      "\n",
      "\n",
      "Information about week 2\n",
      "    Day        Hour  Main  Branch1  Branch2  Branch3\n",
      "85  Sat  11 to noon   123       70       76       74\n",
      "78  Fri   Noon to 1   108       73       60       63\n",
      "46  Mon   Noon to 1    96       37       41       35\n",
      "77  Fri  11 to noon    96       53       52       51\n",
      "79  Fri      1 to 2    88       37       45       48\n",
      "____\n",
      "\n",
      "\n",
      "Information about week 3\n",
      "     Day        Hour  Main  Branch1  Branch2  Branch3\n",
      "128  Sat  11 to noon   138       61       64       73\n",
      "121  Fri   Noon to 1   125       68       46       69\n",
      "125  Fri      4 to 5   109       59       47       54\n",
      "120  Fri  11 to noon   105       47       49       51\n",
      "105  Wed   Noon to 1    84       33       34       41\n",
      "____\n",
      "\n",
      "\n",
      "Information about week 4\n",
      "     Day        Hour  Main  Branch1  Branch2  Branch3\n",
      "171  Sat  11 to noon   131       66       66       70\n",
      "164  Fri   Noon to 1   126       53       70       50\n",
      "168  Fri      4 to 5   117       49       56       47\n",
      "163  Fri  11 to noon   105       42       39       66\n",
      "140  Tue   Noon to 1    82       48       30       35\n",
      "____\n",
      "\n",
      "\n",
      "Information about week 5\n",
      "     Day        Hour  Main  Branch1  Branch2  Branch3\n",
      "214  Sat  11 to noon   125       67       77       74\n",
      "211  Fri      4 to 5   123       54       64       66\n",
      "207  Fri   Noon to 1   120       55       67       56\n",
      "206  Fri  11 to noon   107       49       51       45\n",
      "212  Sat     9 to 10    93       37       47       32\n",
      "____\n",
      "\n",
      "\n",
      "Information about week 6\n",
      "     Day        Hour  Main  Branch1  Branch2  Branch3\n",
      "257  Sat  11 to noon   134       87       59       56\n",
      "254  Fri      4 to 5   114       69       62       46\n",
      "250  Fri   Noon to 1   102       64       70       62\n",
      "249  Fri  11 to noon    90       46       43       54\n",
      "251  Fri      1 to 2    88       37       25       31\n",
      "____\n",
      "\n",
      "\n",
      "Information about week 7\n",
      "     Day        Hour  Main  Branch1  Branch2  Branch3\n",
      "300  Sat  11 to noon   128       70       68       67\n",
      "293  Fri   Noon to 1   124       65       71       66\n",
      "292  Fri  11 to noon   121       52       44       37\n",
      "297  Fri      4 to 5   118       50       71       54\n",
      "277  Wed   Noon to 1    91       39       39       24\n",
      "____\n",
      "\n",
      "\n",
      "Information about week 8\n",
      "     Day        Hour  Main  Branch1  Branch2  Branch3\n",
      "343  Sat  11 to noon   141       62       72       68\n",
      "336  Fri   Noon to 1   135       63       68       65\n",
      "335  Fri  11 to noon   117       62       51       47\n",
      "340  Fri      4 to 5   110       56       65       50\n",
      "312  Tue   Noon to 1    87       41       42       38\n",
      "____\n",
      "\n",
      "\n",
      "Information about week 9\n",
      "     Day        Hour  Main  Branch1  Branch2  Branch3\n",
      "386  Sat  11 to noon   140       68       61       67\n",
      "379  Fri   Noon to 1   139       71       49       45\n",
      "378  Fri  11 to noon   110       43       46       62\n",
      "383  Fri      4 to 5    95       48       52       50\n",
      "384  Sat     9 to 10    85       47       52       40\n",
      "____\n",
      "\n",
      "\n",
      "Information about week 10\n",
      "     Day        Hour  Main  Branch1  Branch2  Branch3\n",
      "429  Sat  11 to noon   158       73       68       64\n",
      "422  Fri   Noon to 1   126       53       60       60\n",
      "421  Fri  11 to noon   102       48       44       50\n",
      "426  Fri      4 to 5    91       64       59       68\n",
      "427  Sat     9 to 10    87       27       38       50\n",
      "____\n",
      "\n",
      "\n"
     ]
    }
   ],
   "source": [
    "# largest number of customer for Main Branch \n",
    "for week in range(len(arr)):\n",
    "    print('Information about week',week+1)\n",
    "    print(arr[week].nlargest(5, columns='Main'))\n",
    "    print('____')\n",
    "    print('\\n')"
   ]
  },
  {
   "cell_type": "code",
   "execution_count": 24,
   "id": "ec8404a5-7c5c-42f0-987d-fead8b350253",
   "metadata": {},
   "outputs": [
    {
     "name": "stdout",
     "output_type": "stream",
     "text": [
      "Information about week 1\n",
      "    Day        Hour  Main  Branch1  Branch2  Branch3\n",
      "42  Sat  11 to noon   135       76       79       71\n",
      "34  Fri  11 to noon    94       66       48       47\n",
      "35  Fri   Noon to 1   129       64       61       71\n",
      "39  Fri      4 to 5   110       56       59       48\n",
      "27  Thu   Noon to 1    67       41       43       44\n",
      "____\n",
      "\n",
      "\n",
      "Information about week 2\n",
      "    Day        Hour  Main  Branch1  Branch2  Branch3\n",
      "82  Fri      4 to 5    83       74       57       62\n",
      "78  Fri   Noon to 1   108       73       60       63\n",
      "85  Sat  11 to noon   123       70       76       74\n",
      "77  Fri  11 to noon    96       53       52       51\n",
      "74  Thu      4 to 5    69       48       33       35\n",
      "____\n",
      "\n",
      "\n",
      "Information about week 3\n",
      "     Day        Hour  Main  Branch1  Branch2  Branch3\n",
      "121  Fri   Noon to 1   125       68       46       69\n",
      "128  Sat  11 to noon   138       61       64       73\n",
      "125  Fri      4 to 5   109       59       47       54\n",
      "122  Fri      1 to 2    80       51       42       39\n",
      "120  Fri  11 to noon   105       47       49       51\n",
      "____\n",
      "\n",
      "\n",
      "Information about week 4\n",
      "     Day        Hour  Main  Branch1  Branch2  Branch3\n",
      "171  Sat  11 to noon   131       66       66       70\n",
      "165  Fri      1 to 2    75       59       61       49\n",
      "164  Fri   Noon to 1   126       53       70       50\n",
      "168  Fri      4 to 5   117       49       56       47\n",
      "140  Tue   Noon to 1    82       48       30       35\n",
      "____\n",
      "\n",
      "\n",
      "Information about week 5\n",
      "     Day        Hour  Main  Branch1  Branch2  Branch3\n",
      "214  Sat  11 to noon   125       67       77       74\n",
      "207  Fri   Noon to 1   120       55       67       56\n",
      "211  Fri      4 to 5   123       54       64       66\n",
      "206  Fri  11 to noon   107       49       51       45\n",
      "208  Fri      1 to 2    80       43       50       47\n",
      "____\n",
      "\n",
      "\n",
      "Information about week 6\n",
      "     Day        Hour  Main  Branch1  Branch2  Branch3\n",
      "257  Sat  11 to noon   134       87       59       56\n",
      "254  Fri      4 to 5   114       69       62       46\n",
      "250  Fri   Noon to 1   102       64       70       62\n",
      "242  Thu   Noon to 1    58       49       32       42\n",
      "249  Fri  11 to noon    90       46       43       54\n",
      "____\n",
      "\n",
      "\n",
      "Information about week 7\n",
      "     Day        Hour  Main  Branch1  Branch2  Branch3\n",
      "300  Sat  11 to noon   128       70       68       67\n",
      "293  Fri   Noon to 1   124       65       71       66\n",
      "292  Fri  11 to noon   121       52       44       37\n",
      "297  Fri      4 to 5   118       50       71       54\n",
      "298  Sat     9 to 10    84       49       35       38\n",
      "____\n",
      "\n",
      "\n",
      "Information about week 8\n",
      "     Day        Hour  Main  Branch1  Branch2  Branch3\n",
      "336  Fri   Noon to 1   135       63       68       65\n",
      "335  Fri  11 to noon   117       62       51       47\n",
      "343  Sat  11 to noon   141       62       72       68\n",
      "340  Fri      4 to 5   110       56       65       50\n",
      "337  Fri      1 to 2    73       50       27       50\n",
      "____\n",
      "\n",
      "\n",
      "Information about week 9\n",
      "     Day        Hour  Main  Branch1  Branch2  Branch3\n",
      "379  Fri   Noon to 1   139       71       49       45\n",
      "386  Sat  11 to noon   140       68       61       67\n",
      "347  Mon   Noon to 1    63       48       42       41\n",
      "383  Fri      4 to 5    95       48       52       50\n",
      "367  Wed      4 to 5    68       47       36       28\n",
      "____\n",
      "\n",
      "\n",
      "Information about week 10\n",
      "     Day        Hour  Main  Branch1  Branch2  Branch3\n",
      "429  Sat  11 to noon   158       73       68       64\n",
      "426  Fri      4 to 5    91       64       59       68\n",
      "422  Fri   Noon to 1   126       53       60       60\n",
      "423  Fri      1 to 2    76       50       39       40\n",
      "421  Fri  11 to noon   102       48       44       50\n",
      "____\n",
      "\n",
      "\n"
     ]
    }
   ],
   "source": [
    "# largest number of customer for Branch 1\n",
    "for week in range(len(arr)):\n",
    "    print('Information about week',week+1)\n",
    "    print(arr[week].nlargest(5, columns='Branch1'))\n",
    "    print('____')\n",
    "    print('\\n')"
   ]
  },
  {
   "cell_type": "code",
   "execution_count": 25,
   "id": "b2d17a00-dec2-4ab0-be92-82760b34a6e8",
   "metadata": {},
   "outputs": [
    {
     "name": "stdout",
     "output_type": "stream",
     "text": [
      "Information about week 1\n",
      "    Day        Hour  Main  Branch1  Branch2  Branch3\n",
      "42  Sat  11 to noon   135       76       79       71\n",
      "35  Fri   Noon to 1   129       64       61       71\n",
      "39  Fri      4 to 5   110       56       59       48\n",
      "34  Fri  11 to noon    94       66       48       47\n",
      "27  Thu   Noon to 1    67       41       43       44\n",
      "____\n",
      "\n",
      "\n",
      "Information about week 2\n",
      "    Day        Hour  Main  Branch1  Branch2  Branch3\n",
      "85  Sat  11 to noon   123       70       76       74\n",
      "78  Fri   Noon to 1   108       73       60       63\n",
      "82  Fri      4 to 5    83       74       57       62\n",
      "77  Fri  11 to noon    96       53       52       51\n",
      "79  Fri      1 to 2    88       37       45       48\n",
      "____\n",
      "\n",
      "\n",
      "Information about week 3\n",
      "     Day        Hour  Main  Branch1  Branch2  Branch3\n",
      "128  Sat  11 to noon   138       61       64       73\n",
      "120  Fri  11 to noon   105       47       49       51\n",
      "125  Fri      4 to 5   109       59       47       54\n",
      "121  Fri   Noon to 1   125       68       46       69\n",
      "93   Mon      4 to 5    70       30       42       33\n",
      "____\n",
      "\n",
      "\n",
      "Information about week 4\n",
      "     Day        Hour  Main  Branch1  Branch2  Branch3\n",
      "164  Fri   Noon to 1   126       53       70       50\n",
      "171  Sat  11 to noon   131       66       66       70\n",
      "165  Fri      1 to 2    75       59       61       49\n",
      "168  Fri      4 to 5   117       49       56       47\n",
      "163  Fri  11 to noon   105       42       39       66\n",
      "____\n",
      "\n",
      "\n",
      "Information about week 5\n",
      "     Day        Hour  Main  Branch1  Branch2  Branch3\n",
      "214  Sat  11 to noon   125       67       77       74\n",
      "207  Fri   Noon to 1   120       55       67       56\n",
      "211  Fri      4 to 5   123       54       64       66\n",
      "206  Fri  11 to noon   107       49       51       45\n",
      "208  Fri      1 to 2    80       43       50       47\n",
      "____\n",
      "\n",
      "\n",
      "Information about week 6\n",
      "     Day        Hour  Main  Branch1  Branch2  Branch3\n",
      "250  Fri   Noon to 1   102       64       70       62\n",
      "254  Fri      4 to 5   114       69       62       46\n",
      "257  Sat  11 to noon   134       87       59       56\n",
      "226  Tue   Noon to 1    77       32       49       43\n",
      "249  Fri  11 to noon    90       46       43       54\n",
      "____\n",
      "\n",
      "\n",
      "Information about week 7\n",
      "     Day        Hour  Main  Branch1  Branch2  Branch3\n",
      "293  Fri   Noon to 1   124       65       71       66\n",
      "297  Fri      4 to 5   118       50       71       54\n",
      "300  Sat  11 to noon   128       70       68       67\n",
      "269  Tue   Noon to 1    82       39       55       30\n",
      "292  Fri  11 to noon   121       52       44       37\n",
      "____\n",
      "\n",
      "\n",
      "Information about week 8\n",
      "     Day        Hour  Main  Branch1  Branch2  Branch3\n",
      "343  Sat  11 to noon   141       62       72       68\n",
      "336  Fri   Noon to 1   135       63       68       65\n",
      "340  Fri      4 to 5   110       56       65       50\n",
      "335  Fri  11 to noon   117       62       51       47\n",
      "341  Sat     9 to 10    77       32       43       43\n",
      "____\n",
      "\n",
      "\n",
      "Information about week 9\n",
      "     Day        Hour  Main  Branch1  Branch2  Branch3\n",
      "386  Sat  11 to noon   140       68       61       67\n",
      "380  Fri      1 to 2    75       37       57       45\n",
      "383  Fri      4 to 5    95       48       52       50\n",
      "384  Sat     9 to 10    85       47       52       40\n",
      "371  Thu   Noon to 1    46       44       49       44\n",
      "____\n",
      "\n",
      "\n",
      "Information about week 10\n",
      "     Day        Hour  Main  Branch1  Branch2  Branch3\n",
      "429  Sat  11 to noon   158       73       68       64\n",
      "422  Fri   Noon to 1   126       53       60       60\n",
      "426  Fri      4 to 5    91       64       59       68\n",
      "398  Tue   Noon to 1    71       28       45       33\n",
      "421  Fri  11 to noon   102       48       44       50\n",
      "____\n",
      "\n",
      "\n"
     ]
    }
   ],
   "source": [
    "# largest number of customer for Branch 2\n",
    "for week in range(len(arr)):\n",
    "    print('Information about week',week+1)\n",
    "    print(arr[week].nlargest(5, columns='Branch2'))\n",
    "    print('____')\n",
    "    print('\\n')"
   ]
  },
  {
   "cell_type": "code",
   "execution_count": 26,
   "id": "06d83141-ecc9-48c0-808c-ae3d565a7597",
   "metadata": {},
   "outputs": [
    {
     "name": "stdout",
     "output_type": "stream",
     "text": [
      "Information about week 1\n",
      "    Day        Hour  Main  Branch1  Branch2  Branch3\n",
      "35  Fri   Noon to 1   129       64       61       71\n",
      "42  Sat  11 to noon   135       76       79       71\n",
      "39  Fri      4 to 5   110       56       59       48\n",
      "34  Fri  11 to noon    94       66       48       47\n",
      "27  Thu   Noon to 1    67       41       43       44\n",
      "____\n",
      "\n",
      "\n",
      "Information about week 2\n",
      "    Day        Hour  Main  Branch1  Branch2  Branch3\n",
      "85  Sat  11 to noon   123       70       76       74\n",
      "78  Fri   Noon to 1   108       73       60       63\n",
      "82  Fri      4 to 5    83       74       57       62\n",
      "58  Tue      4 to 5    74       28       29       52\n",
      "77  Fri  11 to noon    96       53       52       51\n",
      "____\n",
      "\n",
      "\n",
      "Information about week 3\n",
      "     Day        Hour  Main  Branch1  Branch2  Branch3\n",
      "128  Sat  11 to noon   138       61       64       73\n",
      "121  Fri   Noon to 1   125       68       46       69\n",
      "125  Fri      4 to 5   109       59       47       54\n",
      "120  Fri  11 to noon   105       47       49       51\n",
      "105  Wed   Noon to 1    84       33       34       41\n",
      "____\n",
      "\n",
      "\n",
      "Information about week 4\n",
      "     Day        Hour  Main  Branch1  Branch2  Branch3\n",
      "171  Sat  11 to noon   131       66       66       70\n",
      "163  Fri  11 to noon   105       42       39       66\n",
      "164  Fri   Noon to 1   126       53       70       50\n",
      "165  Fri      1 to 2    75       59       61       49\n",
      "168  Fri      4 to 5   117       49       56       47\n",
      "____\n",
      "\n",
      "\n",
      "Information about week 5\n",
      "     Day        Hour  Main  Branch1  Branch2  Branch3\n",
      "214  Sat  11 to noon   125       67       77       74\n",
      "211  Fri      4 to 5   123       54       64       66\n",
      "207  Fri   Noon to 1   120       55       67       56\n",
      "208  Fri      1 to 2    80       43       50       47\n",
      "190  Wed  11 to noon    66       30       30       45\n",
      "____\n",
      "\n",
      "\n",
      "Information about week 6\n",
      "     Day        Hour  Main  Branch1  Branch2  Branch3\n",
      "250  Fri   Noon to 1   102       64       70       62\n",
      "257  Sat  11 to noon   134       87       59       56\n",
      "249  Fri  11 to noon    90       46       43       54\n",
      "234  Wed   Noon to 1    66       34       40       49\n",
      "254  Fri      4 to 5   114       69       62       46\n",
      "____\n",
      "\n",
      "\n",
      "Information about week 7\n",
      "     Day        Hour  Main  Branch1  Branch2  Branch3\n",
      "300  Sat  11 to noon   128       70       68       67\n",
      "293  Fri   Noon to 1   124       65       71       66\n",
      "297  Fri      4 to 5   118       50       71       54\n",
      "294  Fri      1 to 2    72       46       43       50\n",
      "261  Mon   Noon to 1    75       38       39       47\n",
      "____\n",
      "\n",
      "\n",
      "Information about week 8\n",
      "     Day        Hour  Main  Branch1  Branch2  Branch3\n",
      "343  Sat  11 to noon   141       62       72       68\n",
      "336  Fri   Noon to 1   135       63       68       65\n",
      "337  Fri      1 to 2    73       50       27       50\n",
      "340  Fri      4 to 5   110       56       65       50\n",
      "335  Fri  11 to noon   117       62       51       47\n",
      "____\n",
      "\n",
      "\n",
      "Information about week 9\n",
      "     Day        Hour  Main  Branch1  Branch2  Branch3\n",
      "386  Sat  11 to noon   140       68       61       67\n",
      "378  Fri  11 to noon   110       43       46       62\n",
      "383  Fri      4 to 5    95       48       52       50\n",
      "379  Fri   Noon to 1   139       71       49       45\n",
      "380  Fri      1 to 2    75       37       57       45\n",
      "____\n",
      "\n",
      "\n",
      "Information about week 10\n",
      "     Day        Hour  Main  Branch1  Branch2  Branch3\n",
      "426  Fri      4 to 5    91       64       59       68\n",
      "429  Sat  11 to noon   158       73       68       64\n",
      "422  Fri   Noon to 1   126       53       60       60\n",
      "421  Fri  11 to noon   102       48       44       50\n",
      "427  Sat     9 to 10    87       27       38       50\n",
      "____\n",
      "\n",
      "\n"
     ]
    }
   ],
   "source": [
    "# largest number of customer for Branch 3\n",
    "for week in range(len(arr)):\n",
    "    print('Information about week',week+1)\n",
    "    print(arr[week].nlargest(5, columns='Branch3'))\n",
    "    print('____')\n",
    "    print('\\n')"
   ]
  },
  {
   "cell_type": "code",
   "execution_count": 27,
   "id": "427fd172-cb8d-4b0b-be7a-56470d58d26b",
   "metadata": {},
   "outputs": [
    {
     "name": "stdout",
     "output_type": "stream",
     "text": [
      "Information about week 1\n",
      "    Day      Hour  Main  Branch1  Branch2  Branch3\n",
      "22  Wed    3 to 4    19       11       10       14\n",
      "14  Tue    3 to 4    20       15       17       11\n",
      "9   Tue  10 to 11    22        9       11       10\n",
      "17  Wed  10 to 11    22       10       13       15\n",
      "6   Mon    3 to 4    23       12       11        4\n",
      "30  Thu    3 to 4    23       13       15       12\n",
      "____\n",
      "\n",
      "\n",
      "Information about week 2\n",
      "    Day      Hour  Main  Branch1  Branch2  Branch3\n",
      "52  Tue  10 to 11    18       15       12        9\n",
      "60  Wed  10 to 11    19       12       19        7\n",
      "65  Wed    3 to 4    21       13       17        9\n",
      "44  Mon  10 to 11    22       17       16       13\n",
      "49  Mon    3 to 4    22       15        7       12\n",
      "51  Tue   9 to 10    26       20       20       15\n",
      "____\n",
      "\n",
      "\n",
      "Information about week 3\n",
      "     Day      Hour  Main  Branch1  Branch2  Branch3\n",
      "95   Tue  10 to 11    13       15       14       16\n",
      "87   Mon  10 to 11    22        6       11       12\n",
      "91   Mon    2 to 3    22       20       17       18\n",
      "108  Wed    3 to 4    22        6       13       12\n",
      "111  Thu  10 to 11    24       10       14       14\n",
      "92   Mon    3 to 4    25       12       20        6\n",
      "____\n",
      "\n",
      "\n",
      "Information about week 4\n",
      "     Day      Hour  Main  Branch1  Branch2  Branch3\n",
      "138  Tue  10 to 11    18       14       13       19\n",
      "135  Mon    3 to 4    19        8        9       15\n",
      "130  Mon  10 to 11    21       14        3       15\n",
      "146  Wed  10 to 11    23       12       12        5\n",
      "154  Thu  10 to 11    24       12       13        8\n",
      "143  Tue    3 to 4    25       16        9       11\n",
      "____\n",
      "\n",
      "\n",
      "Information about week 5\n",
      "     Day      Hour  Main  Branch1  Branch2  Branch3\n",
      "178  Mon    3 to 4    19       17       13       16\n",
      "189  Wed  10 to 11    20       14       12       11\n",
      "186  Tue    3 to 4    21       10        9        6\n",
      "194  Wed    3 to 4    23       11       11        8\n",
      "180  Tue   9 to 10    25       17       13       24\n",
      "196  Thu   9 to 10    25       13       17       20\n",
      "____\n",
      "\n",
      "\n",
      "Information about week 6\n",
      "     Day      Hour  Main  Branch1  Branch2  Branch3\n",
      "244  Thu    2 to 3    19       17       18       12\n",
      "224  Tue  10 to 11    20       10       14        8\n",
      "240  Thu  10 to 11    22        8       10       14\n",
      "245  Thu    3 to 4    22        8       12       15\n",
      "216  Mon  10 to 11    24       13       19       19\n",
      "231  Wed   9 to 10    26       15       15       16\n",
      "____\n",
      "\n",
      "\n",
      "Information about week 7\n",
      "     Day      Hour  Main  Branch1  Branch2  Branch3\n",
      "280  Wed    3 to 4    18       13        9       10\n",
      "264  Mon    3 to 4    21        9       11       17\n",
      "267  Tue  10 to 11    21       12       11       12\n",
      "259  Mon  10 to 11    22       12       10       13\n",
      "263  Mon    2 to 3    22       11       23       23\n",
      "272  Tue    3 to 4    24       13       15        9\n",
      "____\n",
      "\n",
      "\n",
      "Information about week 8\n",
      "     Day      Hour  Main  Branch1  Branch2  Branch3\n",
      "307  Mon    3 to 4    17       10        8       13\n",
      "331  Thu    3 to 4    17       13       17       10\n",
      "302  Mon  10 to 11    21       11        9       20\n",
      "301  Mon   9 to 10    22       17       20       24\n",
      "330  Thu    2 to 3    22       17       17       11\n",
      "306  Mon    2 to 3    23       21       19       14\n",
      "____\n",
      "\n",
      "\n",
      "Information about week 9\n",
      "     Day      Hour  Main  Branch1  Branch2  Branch3\n",
      "361  Wed  10 to 11    15        8       10        8\n",
      "345  Mon  10 to 11    19       17       11       12\n",
      "358  Tue    3 to 4    20       13       12       19\n",
      "369  Thu  10 to 11    20       11        7       15\n",
      "360  Wed   9 to 10    22       19       13       13\n",
      "366  Wed    3 to 4    22        5       10        9\n",
      "____\n",
      "\n",
      "\n",
      "Information about week 10\n",
      "     Day      Hour  Main  Branch1  Branch2  Branch3\n",
      "388  Mon  10 to 11    16        9        5       12\n",
      "412  Thu  10 to 11    20       14       11        8\n",
      "396  Tue  10 to 11    21       17       11       16\n",
      "417  Thu    3 to 4    22       13        9        8\n",
      "401  Tue    3 to 4    24       11       12       15\n",
      "403  Wed   9 to 10    24       14       24       16\n",
      "____\n",
      "\n",
      "\n"
     ]
    }
   ],
   "source": [
    "# smallest number of customers for Main branch\n",
    "for week in range(len(arr)):\n",
    "    print('Information about week',week+1)\n",
    "    print(arr[week].nsmallest(6, columns='Main'))\n",
    "    print('____')\n",
    "    print('\\n')"
   ]
  },
  {
   "cell_type": "code",
   "execution_count": 28,
   "id": "0b84e7b8-4439-4e37-8812-fc2f42896765",
   "metadata": {},
   "outputs": [
    {
     "name": "stdout",
     "output_type": "stream",
     "text": [
      "Information about week 1\n",
      "    Day      Hour  Main  Branch1  Branch2  Branch3\n",
      "9   Tue  10 to 11    22        9       11       10\n",
      "17  Wed  10 to 11    22       10       13       15\n",
      "22  Wed    3 to 4    19       11       10       14\n",
      "24  Thu   9 to 10    36       11       16       13\n",
      "6   Mon    3 to 4    23       12       11        4\n",
      "1   Mon  10 to 11    26       13       13       12\n",
      "____\n",
      "\n",
      "\n",
      "Information about week 2\n",
      "    Day      Hour  Main  Branch1  Branch2  Branch3\n",
      "73  Thu    3 to 4    27        5       12       13\n",
      "57  Tue    3 to 4    34        7       15       16\n",
      "68  Thu  10 to 11    26        9       10        9\n",
      "60  Wed  10 to 11    19       12       19        7\n",
      "67  Thu   9 to 10    26       12       19       18\n",
      "56  Tue    2 to 3    37       13       19       17\n",
      "____\n",
      "\n",
      "\n",
      "Information about week 3\n",
      "     Day      Hour  Main  Branch1  Branch2  Branch3\n",
      "87   Mon  10 to 11    22        6       11       12\n",
      "108  Wed    3 to 4    22        6       13       12\n",
      "103  Wed  10 to 11    26       10       10       12\n",
      "111  Thu  10 to 11    24       10       14       14\n",
      "116  Thu    3 to 4    28       11       12        9\n",
      "86   Mon   9 to 10    39       12       11       20\n",
      "____\n",
      "\n",
      "\n",
      "Information about week 4\n",
      "     Day      Hour  Main  Branch1  Branch2  Branch3\n",
      "135  Mon    3 to 4    19        8        9       15\n",
      "137  Tue   9 to 10    30        8       24       15\n",
      "159  Thu    3 to 4    25        9       16        7\n",
      "146  Wed  10 to 11    23       12       12        5\n",
      "151  Wed    3 to 4    28       12        9       10\n",
      "154  Thu  10 to 11    24       12       13        8\n",
      "____\n",
      "\n",
      "\n",
      "Information about week 5\n",
      "     Day      Hour  Main  Branch1  Branch2  Branch3\n",
      "188  Wed   9 to 10    30        9       15       10\n",
      "181  Tue  10 to 11    27       10       14       11\n",
      "186  Tue    3 to 4    21       10        9        6\n",
      "173  Mon  10 to 11    27       11       18       12\n",
      "194  Wed    3 to 4    23       11       11        8\n",
      "202  Thu    3 to 4    28       11       14       13\n",
      "____\n",
      "\n",
      "\n",
      "Information about week 6\n",
      "     Day      Hour  Main  Branch1  Branch2  Branch3\n",
      "221  Mon    3 to 4    29        7       11        7\n",
      "240  Thu  10 to 11    22        8       10       14\n",
      "245  Thu    3 to 4    22        8       12       15\n",
      "232  Wed  10 to 11    28        9       13        8\n",
      "224  Tue  10 to 11    20       10       14        8\n",
      "216  Mon  10 to 11    24       13       19       19\n",
      "____\n",
      "\n",
      "\n",
      "Information about week 7\n",
      "     Day      Hour  Main  Branch1  Branch2  Branch3\n",
      "283  Thu  10 to 11    24        5       14       19\n",
      "275  Wed  10 to 11    26        6       21       12\n",
      "264  Mon    3 to 4    21        9       11       17\n",
      "263  Mon    2 to 3    22       11       23       23\n",
      "288  Thu    3 to 4    24       11       10       15\n",
      "259  Mon  10 to 11    22       12       10       13\n",
      "____\n",
      "\n",
      "\n",
      "Information about week 8\n",
      "     Day      Hour  Main  Branch1  Branch2  Branch3\n",
      "326  Thu  10 to 11    27        9        7       13\n",
      "307  Mon    3 to 4    17       10        8       13\n",
      "302  Mon  10 to 11    21       11        9       20\n",
      "310  Tue  10 to 11    25       11       15       17\n",
      "331  Thu    3 to 4    17       13       17       10\n",
      "318  Wed  10 to 11    24       14        9       12\n",
      "____\n",
      "\n",
      "\n",
      "Information about week 9\n",
      "     Day      Hour  Main  Branch1  Branch2  Branch3\n",
      "366  Wed    3 to 4    22        5       10        9\n",
      "361  Wed  10 to 11    15        8       10        8\n",
      "350  Mon    3 to 4    28        9       11        6\n",
      "365  Wed    2 to 3    36        9       23       16\n",
      "369  Thu  10 to 11    20       11        7       15\n",
      "373  Thu    2 to 3    25       11       16       13\n",
      "____\n",
      "\n",
      "\n",
      "Information about week 10\n",
      "     Day      Hour  Main  Branch1  Branch2  Branch3\n",
      "388  Mon  10 to 11    16        9        5       12\n",
      "401  Tue    3 to 4    24       11       12       15\n",
      "404  Wed  10 to 11    24       12       13       14\n",
      "420  Fri  10 to 11    53       12       19       23\n",
      "387  Mon   9 to 10    33       13       10       21\n",
      "409  Wed    3 to 4    26       13       11        8\n",
      "____\n",
      "\n",
      "\n"
     ]
    }
   ],
   "source": [
    "# smallest number of customers for branch 1\n",
    "for week in range(len(arr)):\n",
    "    print('Information about week',week+1)\n",
    "    print(arr[week].nsmallest(6, columns='Branch1'))\n",
    "    print('____')\n",
    "    print('\\n')"
   ]
  },
  {
   "cell_type": "code",
   "execution_count": 29,
   "id": "50df8d4b-e10b-4e1f-b8dd-67c690c2b4d9",
   "metadata": {},
   "outputs": [
    {
     "name": "stdout",
     "output_type": "stream",
     "text": [
      "Information about week 1\n",
      "    Day      Hour  Main  Branch1  Branch2  Branch3\n",
      "22  Wed    3 to 4    19       11       10       14\n",
      "6   Mon    3 to 4    23       12       11        4\n",
      "9   Tue  10 to 11    22        9       11       10\n",
      "25  Thu  10 to 11    25       17       11       12\n",
      "1   Mon  10 to 11    26       13       13       12\n",
      "8   Tue   9 to 10    35       14       13       15\n",
      "____\n",
      "\n",
      "\n",
      "Information about week 2\n",
      "    Day      Hour  Main  Branch1  Branch2  Branch3\n",
      "49  Mon    3 to 4    22       15        7       12\n",
      "64  Wed    2 to 3    32       21        9       22\n",
      "68  Thu  10 to 11    26        9       10        9\n",
      "52  Tue  10 to 11    18       15       12        9\n",
      "73  Thu    3 to 4    27        5       12       13\n",
      "57  Tue    3 to 4    34        7       15       16\n",
      "____\n",
      "\n",
      "\n",
      "Information about week 3\n",
      "     Day      Hour  Main  Branch1  Branch2  Branch3\n",
      "100  Tue    3 to 4    28       16        7       10\n",
      "103  Wed  10 to 11    26       10       10       12\n",
      "86   Mon   9 to 10    39       12       11       20\n",
      "87   Mon  10 to 11    22        6       11       12\n",
      "110  Thu   9 to 10    41       12       12       15\n",
      "116  Thu    3 to 4    28       11       12        9\n",
      "____\n",
      "\n",
      "\n",
      "Information about week 4\n",
      "     Day      Hour  Main  Branch1  Branch2  Branch3\n",
      "130  Mon  10 to 11    21       14        3       15\n",
      "150  Wed    2 to 3    26       21        8       21\n",
      "129  Mon   9 to 10    26       17        9       13\n",
      "135  Mon    3 to 4    19        8        9       15\n",
      "143  Tue    3 to 4    25       16        9       11\n",
      "151  Wed    3 to 4    28       12        9       10\n",
      "____\n",
      "\n",
      "\n",
      "Information about week 5\n",
      "     Day      Hour  Main  Branch1  Branch2  Branch3\n",
      "185  Tue    2 to 3    35       12        9       20\n",
      "186  Tue    3 to 4    21       10        9        6\n",
      "194  Wed    3 to 4    23       11       11        8\n",
      "189  Wed  10 to 11    20       14       12       11\n",
      "197  Thu  10 to 11    26       17       12       12\n",
      "178  Mon    3 to 4    19       17       13       16\n",
      "____\n",
      "\n",
      "\n",
      "Information about week 6\n",
      "     Day      Hour  Main  Branch1  Branch2  Branch3\n",
      "228  Tue    2 to 3    37       17        8        8\n",
      "240  Thu  10 to 11    22        8       10       14\n",
      "221  Mon    3 to 4    29        7       11        7\n",
      "237  Wed    3 to 4    26       14       12        8\n",
      "245  Thu    3 to 4    22        8       12       15\n",
      "232  Wed  10 to 11    28        9       13        8\n",
      "____\n",
      "\n",
      "\n",
      "Information about week 7\n",
      "     Day      Hour  Main  Branch1  Branch2  Branch3\n",
      "271  Tue    2 to 3    31       13        8       16\n",
      "280  Wed    3 to 4    18       13        9       10\n",
      "259  Mon  10 to 11    22       12       10       13\n",
      "288  Thu    3 to 4    24       11       10       15\n",
      "264  Mon    3 to 4    21        9       11       17\n",
      "267  Tue  10 to 11    21       12       11       12\n",
      "____\n",
      "\n",
      "\n",
      "Information about week 8\n",
      "     Day      Hour  Main  Branch1  Branch2  Branch3\n",
      "326  Thu  10 to 11    27        9        7       13\n",
      "307  Mon    3 to 4    17       10        8       13\n",
      "302  Mon  10 to 11    21       11        9       20\n",
      "317  Wed   9 to 10    33       17        9       17\n",
      "318  Wed  10 to 11    24       14        9       12\n",
      "314  Tue    2 to 3    33       16       13       20\n",
      "____\n",
      "\n",
      "\n",
      "Information about week 9\n",
      "     Day      Hour  Main  Branch1  Branch2  Branch3\n",
      "369  Thu  10 to 11    20       11        7       15\n",
      "361  Wed  10 to 11    15        8       10        8\n",
      "366  Wed    3 to 4    22        5       10        9\n",
      "345  Mon  10 to 11    19       17       11       12\n",
      "350  Mon    3 to 4    28        9       11        6\n",
      "358  Tue    3 to 4    20       13       12       19\n",
      "____\n",
      "\n",
      "\n",
      "Information about week 10\n",
      "     Day      Hour  Main  Branch1  Branch2  Branch3\n",
      "388  Mon  10 to 11    16        9        5       12\n",
      "417  Thu    3 to 4    22       13        9        8\n",
      "387  Mon   9 to 10    33       13       10       21\n",
      "396  Tue  10 to 11    21       17       11       16\n",
      "409  Wed    3 to 4    26       13       11        8\n",
      "412  Thu  10 to 11    20       14       11        8\n",
      "____\n",
      "\n",
      "\n"
     ]
    }
   ],
   "source": [
    "# smallest number of customers for branch 2\n",
    "for week in range(len(arr)):\n",
    "    print('Information about week',week+1)\n",
    "    print(arr[week].nsmallest(6, columns='Branch2'))\n",
    "    print('____')\n",
    "    print('\\n')"
   ]
  },
  {
   "cell_type": "code",
   "execution_count": 30,
   "id": "59881271-456e-4f60-bb7b-137c7c740c5e",
   "metadata": {},
   "outputs": [
    {
     "name": "stdout",
     "output_type": "stream",
     "text": [
      "Information about week 1\n",
      "    Day      Hour  Main  Branch1  Branch2  Branch3\n",
      "6   Mon    3 to 4    23       12       11        4\n",
      "9   Tue  10 to 11    22        9       11       10\n",
      "14  Tue    3 to 4    20       15       17       11\n",
      "1   Mon  10 to 11    26       13       13       12\n",
      "25  Thu  10 to 11    25       17       11       12\n",
      "30  Thu    3 to 4    23       13       15       12\n",
      "____\n",
      "\n",
      "\n",
      "Information about week 2\n",
      "    Day      Hour  Main  Branch1  Branch2  Branch3\n",
      "60  Wed  10 to 11    19       12       19        7\n",
      "52  Tue  10 to 11    18       15       12        9\n",
      "65  Wed    3 to 4    21       13       17        9\n",
      "68  Thu  10 to 11    26        9       10        9\n",
      "49  Mon    3 to 4    22       15        7       12\n",
      "44  Mon  10 to 11    22       17       16       13\n",
      "____\n",
      "\n",
      "\n",
      "Information about week 3\n",
      "     Day      Hour  Main  Branch1  Branch2  Branch3\n",
      "92   Mon    3 to 4    25       12       20        6\n",
      "116  Thu    3 to 4    28       11       12        9\n",
      "100  Tue    3 to 4    28       16        7       10\n",
      "87   Mon  10 to 11    22        6       11       12\n",
      "103  Wed  10 to 11    26       10       10       12\n",
      "108  Wed    3 to 4    22        6       13       12\n",
      "____\n",
      "\n",
      "\n",
      "Information about week 4\n",
      "     Day      Hour  Main  Branch1  Branch2  Branch3\n",
      "146  Wed  10 to 11    23       12       12        5\n",
      "159  Thu    3 to 4    25        9       16        7\n",
      "154  Thu  10 to 11    24       12       13        8\n",
      "151  Wed    3 to 4    28       12        9       10\n",
      "143  Tue    3 to 4    25       16        9       11\n",
      "129  Mon   9 to 10    26       17        9       13\n",
      "____\n",
      "\n",
      "\n",
      "Information about week 5\n",
      "     Day      Hour  Main  Branch1  Branch2  Branch3\n",
      "186  Tue    3 to 4    21       10        9        6\n",
      "194  Wed    3 to 4    23       11       11        8\n",
      "188  Wed   9 to 10    30        9       15       10\n",
      "177  Mon    2 to 3    37       18       21       11\n",
      "181  Tue  10 to 11    27       10       14       11\n",
      "189  Wed  10 to 11    20       14       12       11\n",
      "____\n",
      "\n",
      "\n",
      "Information about week 6\n",
      "     Day      Hour  Main  Branch1  Branch2  Branch3\n",
      "221  Mon    3 to 4    29        7       11        7\n",
      "224  Tue  10 to 11    20       10       14        8\n",
      "228  Tue    2 to 3    37       17        8        8\n",
      "232  Wed  10 to 11    28        9       13        8\n",
      "237  Wed    3 to 4    26       14       12        8\n",
      "220  Mon    2 to 3    44       15       20       10\n",
      "____\n",
      "\n",
      "\n",
      "Information about week 7\n",
      "     Day      Hour  Main  Branch1  Branch2  Branch3\n",
      "272  Tue    3 to 4    24       13       15        9\n",
      "280  Wed    3 to 4    18       13        9       10\n",
      "291  Fri  10 to 11    40       17       16       11\n",
      "267  Tue  10 to 11    21       12       11       12\n",
      "274  Wed   9 to 10    37       13       15       12\n",
      "275  Wed  10 to 11    26        6       21       12\n",
      "____\n",
      "\n",
      "\n",
      "Information about week 8\n",
      "     Day      Hour  Main  Branch1  Branch2  Branch3\n",
      "309  Tue   9 to 10    32       22       19        8\n",
      "323  Wed    3 to 4    26       18       14        9\n",
      "331  Thu    3 to 4    17       13       17       10\n",
      "330  Thu    2 to 3    22       17       17       11\n",
      "318  Wed  10 to 11    24       14        9       12\n",
      "307  Mon    3 to 4    17       10        8       13\n",
      "____\n",
      "\n",
      "\n",
      "Information about week 9\n",
      "     Day      Hour  Main  Branch1  Branch2  Branch3\n",
      "350  Mon    3 to 4    28        9       11        6\n",
      "361  Wed  10 to 11    15        8       10        8\n",
      "366  Wed    3 to 4    22        5       10        9\n",
      "353  Tue  10 to 11    23       20       14       10\n",
      "345  Mon  10 to 11    19       17       11       12\n",
      "352  Tue   9 to 10    42       15       18       12\n",
      "____\n",
      "\n",
      "\n",
      "Information about week 10\n",
      "     Day      Hour  Main  Branch1  Branch2  Branch3\n",
      "411  Thu   9 to 10    28       13       16        7\n",
      "409  Wed    3 to 4    26       13       11        8\n",
      "412  Thu  10 to 11    20       14       11        8\n",
      "417  Thu    3 to 4    22       13        9        8\n",
      "393  Mon    3 to 4    30       14       13        9\n",
      "400  Tue    2 to 3    39       17       16       11\n",
      "____\n",
      "\n",
      "\n"
     ]
    }
   ],
   "source": [
    "# smallest number of customers for branch 3\n",
    "for week in range(len(arr)):\n",
    "    print('Information about week',week+1)\n",
    "    print(arr[week].nsmallest(6, columns='Branch3'))\n",
    "    print('____')\n",
    "    print('\\n')"
   ]
  },
  {
   "cell_type": "code",
   "execution_count": 31,
   "id": "3954d75e-518a-4e37-a842-8a1fb95b1280",
   "metadata": {},
   "outputs": [
    {
     "data": {
      "text/plain": [
       "Day              Wed\n",
       "Hour       Noon to 1\n",
       "Main             135\n",
       "Branch1           76\n",
       "Branch2           79\n",
       "Branch3           71\n",
       "dtype: object"
      ]
     },
     "execution_count": 31,
     "metadata": {},
     "output_type": "execute_result"
    }
   ],
   "source": [
    "hp['week1'].max()"
   ]
  },
  {
   "cell_type": "code",
   "execution_count": 32,
   "id": "f9e16929-bdc1-41c1-8fd9-a39b20c2f761",
   "metadata": {},
   "outputs": [
    {
     "data": {
      "text/html": [
       "<div>\n",
       "<style scoped>\n",
       "    .dataframe tbody tr th:only-of-type {\n",
       "        vertical-align: middle;\n",
       "    }\n",
       "\n",
       "    .dataframe tbody tr th {\n",
       "        vertical-align: top;\n",
       "    }\n",
       "\n",
       "    .dataframe thead th {\n",
       "        text-align: right;\n",
       "    }\n",
       "</style>\n",
       "<table border=\"1\" class=\"dataframe\">\n",
       "  <thead>\n",
       "    <tr style=\"text-align: right;\">\n",
       "      <th></th>\n",
       "      <th>Main</th>\n",
       "      <th>Branch1</th>\n",
       "      <th>Branch2</th>\n",
       "      <th>Branch3</th>\n",
       "    </tr>\n",
       "    <tr>\n",
       "      <th>Day</th>\n",
       "      <th></th>\n",
       "      <th></th>\n",
       "      <th></th>\n",
       "      <th></th>\n",
       "    </tr>\n",
       "  </thead>\n",
       "  <tbody>\n",
       "    <tr>\n",
       "      <th>Fri</th>\n",
       "      <td>74.125000</td>\n",
       "      <td>38.125</td>\n",
       "      <td>35.750000</td>\n",
       "      <td>38.625</td>\n",
       "    </tr>\n",
       "    <tr>\n",
       "      <th>Mon</th>\n",
       "      <td>46.125000</td>\n",
       "      <td>21.000</td>\n",
       "      <td>20.125000</td>\n",
       "      <td>23.500</td>\n",
       "    </tr>\n",
       "    <tr>\n",
       "      <th>Sat</th>\n",
       "      <td>101.333333</td>\n",
       "      <td>42.000</td>\n",
       "      <td>46.666667</td>\n",
       "      <td>51.000</td>\n",
       "    </tr>\n",
       "    <tr>\n",
       "      <th>Thu</th>\n",
       "      <td>42.375000</td>\n",
       "      <td>19.750</td>\n",
       "      <td>22.125000</td>\n",
       "      <td>20.625</td>\n",
       "    </tr>\n",
       "    <tr>\n",
       "      <th>Tue</th>\n",
       "      <td>41.625000</td>\n",
       "      <td>21.875</td>\n",
       "      <td>23.375000</td>\n",
       "      <td>22.250</td>\n",
       "    </tr>\n",
       "    <tr>\n",
       "      <th>Wed</th>\n",
       "      <td>42.375000</td>\n",
       "      <td>21.000</td>\n",
       "      <td>24.250000</td>\n",
       "      <td>24.250</td>\n",
       "    </tr>\n",
       "  </tbody>\n",
       "</table>\n",
       "</div>"
      ],
      "text/plain": [
       "           Main  Branch1    Branch2  Branch3\n",
       "Day                                         \n",
       "Fri   74.125000   38.125  35.750000   38.625\n",
       "Mon   46.125000   21.000  20.125000   23.500\n",
       "Sat  101.333333   42.000  46.666667   51.000\n",
       "Thu   42.375000   19.750  22.125000   20.625\n",
       "Tue   41.625000   21.875  23.375000   22.250\n",
       "Wed   42.375000   21.000  24.250000   24.250"
      ]
     },
     "execution_count": 32,
     "metadata": {},
     "output_type": "execute_result"
    }
   ],
   "source": [
    "hp['week10'].groupby(by='Day').mean()"
   ]
  },
  {
   "cell_type": "code",
   "execution_count": null,
   "id": "ee3cc947-1ca2-42f9-b1d8-26df210fc96a",
   "metadata": {},
   "outputs": [],
   "source": []
  },
  {
   "cell_type": "code",
   "execution_count": null,
   "id": "5c110c3f-8a28-4b37-a8a3-29f85102a8b3",
   "metadata": {},
   "outputs": [],
   "source": []
  },
  {
   "cell_type": "code",
   "execution_count": 33,
   "id": "15abf322-76ee-407b-98bc-7074b88f6808",
   "metadata": {},
   "outputs": [
    {
     "name": "stdout",
     "output_type": "stream",
     "text": [
      "    Order  Deliverer  Prep Time  Travel Time  Distance\n",
      "0       1          3       13.0         30.0      13.3\n",
      "1       2          1       10.9         17.8       8.6\n",
      "2       3          1        9.2          9.2       4.7\n",
      "3       4          3        7.2         14.7       4.3\n",
      "4       5          2       14.5         21.9      12.2\n",
      "..    ...        ...        ...          ...       ...\n",
      "71     72          3        7.0         31.3       8.6\n",
      "72     73          1        9.0          3.5       1.5\n",
      "73     74          1       13.1         11.9       4.4\n",
      "74     75          1       11.0         11.6       3.6\n",
      "75     76          2       12.0          7.5       3.3\n",
      "\n",
      "[76 rows x 5 columns]\n"
     ]
    }
   ],
   "source": [
    "#Case 2\n",
    "print(goldenhouse)"
   ]
  },
  {
   "cell_type": "code",
   "execution_count": 34,
   "id": "1d040376-7b87-417d-8209-b6e3f52da037",
   "metadata": {},
   "outputs": [
    {
     "name": "stdout",
     "output_type": "stream",
     "text": [
      "<class 'pandas.core.frame.DataFrame'>\n",
      "RangeIndex: 76 entries, 0 to 75\n",
      "Data columns (total 5 columns):\n",
      " #   Column       Non-Null Count  Dtype  \n",
      "---  ------       --------------  -----  \n",
      " 0   Order        76 non-null     int64  \n",
      " 1   Deliverer    76 non-null     int64  \n",
      " 2   Prep Time    76 non-null     float64\n",
      " 3   Travel Time  76 non-null     float64\n",
      " 4   Distance     76 non-null     float64\n",
      "dtypes: float64(3), int64(2)\n",
      "memory usage: 3.1 KB\n"
     ]
    }
   ],
   "source": [
    "#checking if the dataset has non-null values.\n",
    "goldenhouse.info()"
   ]
  },
  {
   "cell_type": "code",
   "execution_count": 35,
   "id": "4318487b-8629-4d8c-9bf0-e6a10674459c",
   "metadata": {},
   "outputs": [
    {
     "data": {
      "text/plain": [
       "Deliverer\n",
       "1    12.248000\n",
       "2    14.733333\n",
       "3    19.717647\n",
       "4    20.243750\n",
       "Name: Travel Time, dtype: float64"
      ]
     },
     "execution_count": 35,
     "metadata": {},
     "output_type": "execute_result"
    }
   ],
   "source": [
    "#getting a mean value of a particular driver of their travel time\n",
    "goldenhouse['Travel Time'].groupby(goldenhouse['Deliverer']).mean()"
   ]
  },
  {
   "cell_type": "code",
   "execution_count": 43,
   "id": "2983a60a-a6ac-4448-80e3-742d9efe9482",
   "metadata": {},
   "outputs": [
    {
     "name": "stdout",
     "output_type": "stream",
     "text": [
      "Mean preparing time 11.51\n",
      "\n",
      "Deliverer\n",
      "1    11.276000\n",
      "2    11.800000\n",
      "3    11.064706\n",
      "4    12.043750\n",
      "Name: Prep Time, dtype: float64\n",
      "\n"
     ]
    },
    {
     "data": {
      "text/plain": [
       "<AxesSubplot:title={'center':'Prep Time'}, xlabel='Deliverer'>"
      ]
     },
     "execution_count": 43,
     "metadata": {},
     "output_type": "execute_result"
    },
    {
     "data": {
      "image/png": "[encoded data removed]",
      "text/plain": [
       "<Figure size 432x288 with 1 Axes>"
      ]
     },
     "metadata": {
      "needs_background": "light"
     },
     "output_type": "display_data"
    }
   ],
   "source": [
    "#getting a mean value of a particular drivers' prep time\n",
    "\n",
    "print(\"Mean preparing time\", round(mean(goldenhouse['Prep Time']),2))\n",
    "print()\n",
    "print(goldenhouse['Prep Time'].groupby(goldenhouse['Deliverer']).mean())\n",
    "print()\n",
    "goldenhouse.boxplot(by=\"Deliverer\", column = [\"Prep Time\"], grid = False)"
   ]
  },
  {
   "cell_type": "code",
   "execution_count": 44,
   "id": "64f42a06-0343-4292-9f9b-456bb7527230",
   "metadata": {},
   "outputs": [
    {
     "data": {
      "text/plain": [
       "Deliverer\n",
       "1    5.528000\n",
       "2    7.261111\n",
       "3    6.688235\n",
       "4    5.850000\n",
       "Name: Distance, dtype: float64"
      ]
     },
     "execution_count": 44,
     "metadata": {},
     "output_type": "execute_result"
    }
   ],
   "source": [
    "#getting a mean value of a particular drivers' travel distance\n",
    "goldenhouse['Distance'].groupby(goldenhouse['Deliverer']).mean()"
   ]
  },
  {
   "cell_type": "code",
   "execution_count": 45,
   "id": "bd1391df-faaa-473b-97a6-dd9335e42db8",
   "metadata": {},
   "outputs": [
    {
     "data": {
      "text/plain": [
       "<AxesSubplot:>"
      ]
     },
     "execution_count": 45,
     "metadata": {},
     "output_type": "execute_result"
    },
    {
     "data": {
      "image/png": "[encoded data removed]",
      "text/plain": [
       "<Figure size 432x288 with 1 Axes>"
      ]
     },
     "metadata": {
      "needs_background": "light"
     },
     "output_type": "display_data"
    }
   ],
   "source": [
    "goldenhouse.plot(y= \"Travel Time\", x= \"Distance\", kind=\"box\")"
   ]
  },
  {
   "cell_type": "code",
   "execution_count": 46,
   "id": "183358a1-4d70-4163-962b-ea20cb7d537f",
   "metadata": {},
   "outputs": [
    {
     "data": {
      "text/plain": [
       "30.0"
      ]
     },
     "execution_count": 46,
     "metadata": {},
     "output_type": "execute_result"
    }
   ],
   "source": [
    "goldenhouse['Travel Time'][0]"
   ]
  },
  {
   "cell_type": "code",
   "execution_count": 47,
   "id": "1452ca0b-494f-4bb1-aac3-ccfd6342c489",
   "metadata": {},
   "outputs": [],
   "source": [
    "#dictionary for containg the speed of their delivery.\n",
    "deliverers = {1:[],2:[],3:[],4:[]}\n",
    "\n",
    "for number in range(len(goldenhouse['Travel Time'])):\n",
    "    speed = round((goldenhouse['Distance'][number] / goldenhouse['Travel Time'][number]),4)\n",
    "    deliverers[goldenhouse['Deliverer'][number]].append(speed)"
   ]
  },
  {
   "cell_type": "code",
   "execution_count": 48,
   "id": "2774a9dd-199a-4dc4-b47a-95d304cc48ca",
   "metadata": {},
   "outputs": [],
   "source": [
    "#total delivery time"
   ]
  },
  {
   "cell_type": "code",
   "execution_count": 49,
   "id": "3b17a192-6d41-4901-8d35-8b33f6818343",
   "metadata": {},
   "outputs": [
    {
     "data": {
      "text/plain": [
       "[0.4831,\n",
       " 0.5109,\n",
       " 0.3955,\n",
       " 0.3488,\n",
       " 0.4828,\n",
       " 0.3913,\n",
       " 0.34,\n",
       " 0.4545,\n",
       " 0.4111,\n",
       " 0.4762,\n",
       " 0.5224,\n",
       " 0.3596,\n",
       " 0.4943,\n",
       " 0.4526,\n",
       " 0.4717,\n",
       " 0.4242,\n",
       " 0.3158,\n",
       " 0.5159,\n",
       " 0.4583,\n",
       " 0.5714,\n",
       " 0.537,\n",
       " 0.5602,\n",
       " 0.4286,\n",
       " 0.3697,\n",
       " 0.3103]"
      ]
     },
     "execution_count": 49,
     "metadata": {},
     "output_type": "execute_result"
    }
   ],
   "source": [
    "deliverers[1]"
   ]
  },
  {
   "cell_type": "code",
   "execution_count": 50,
   "id": "be2012d9-5eab-40e4-bb06-de1d8e748265",
   "metadata": {},
   "outputs": [
    {
     "name": "stdout",
     "output_type": "stream",
     "text": [
      "Average speed of first deliverer: 0.4434 miles per min\n",
      "Lowest speed of first deliverer: 0.3103 miles per min\n",
      "Highest speed of first deliverer: 0.5714 miles per min\n",
      "___________\n",
      "Average speed of second deliverer: 0.5023 miles per min\n",
      "Lowest speed of second deliverer: 0.3576 miles per min\n",
      "Highest speed of second deliverer: 0.6667 miles per min\n",
      "___________\n",
      "Average speed of third deliverer: 0.3485 miles per min\n",
      "Lowest speed of third deliverer: 0.2323 miles per min\n",
      "Highest speed of third deliverer: 0.4667 miles per min\n",
      "___________\n",
      "Average speed of fourth deliverer: 0.2944 miles per min\n",
      "Lowest speed of fourth deliverer: 0.116 miles per min\n",
      "Highest speed of fourth deliverer: 0.4362 miles per min\n"
     ]
    }
   ],
   "source": [
    "\n",
    "first = round(mean(deliverers[1]),4)\n",
    "f_min = round(min(deliverers[1]),4)\n",
    "f_max = round(max(deliverers[1]),4)\n",
    "\n",
    "second = round(mean(deliverers[2]), 4)\n",
    "s_min = round(min(deliverers[2]),4)\n",
    "s_max = round(max(deliverers[2]),4)\n",
    "\n",
    "third = round(mean(deliverers[3]),4)\n",
    "t_min = round(min(deliverers[3]),4)\n",
    "t_max = round(max(deliverers[3]),4)\n",
    "\n",
    "fourth = round(mean(deliverers[4]), 4)\n",
    "fo_min = round(min(deliverers[4]),4)\n",
    "fo_max = round(max(deliverers[4]),4)\n",
    "\n",
    "print(\"Average speed of first deliverer:\",first, \"miles per min\")\n",
    "print(\"Lowest speed of first deliverer:\", f_min, \"miles per min\")\n",
    "print(\"Highest speed of first deliverer:\", f_max, \"miles per min\")\n",
    "print('___________')\n",
    "\n",
    "print(\"Average speed of second deliverer:\", second, \"miles per min\")\n",
    "print(\"Lowest speed of second deliverer:\", s_min, \"miles per min\")\n",
    "print(\"Highest speed of second deliverer:\", s_max, \"miles per min\")\n",
    "print('___________')\n",
    "\n",
    "print(\"Average speed of third deliverer:\", third, \"miles per min\")\n",
    "print(\"Lowest speed of third deliverer:\", t_min, \"miles per min\")\n",
    "print(\"Highest speed of third deliverer:\", t_max, \"miles per min\")\n",
    "print('___________')\n",
    "\n",
    "print(\"Average speed of fourth deliverer:\", fourth, \"miles per min\")\n",
    "print(\"Lowest speed of fourth deliverer:\", fo_min, \"miles per min\")\n",
    "print(\"Highest speed of fourth deliverer:\", fo_max, \"miles per min\")\n"
   ]
  },
  {
   "cell_type": "code",
   "execution_count": 51,
   "id": "45d3a6c7-b700-484a-8748-76f5aaae19c4",
   "metadata": {},
   "outputs": [
    {
     "data": {
      "text/html": [
       "<div>\n",
       "<style scoped>\n",
       "    .dataframe tbody tr th:only-of-type {\n",
       "        vertical-align: middle;\n",
       "    }\n",
       "\n",
       "    .dataframe tbody tr th {\n",
       "        vertical-align: top;\n",
       "    }\n",
       "\n",
       "    .dataframe thead th {\n",
       "        text-align: right;\n",
       "    }\n",
       "</style>\n",
       "<table border=\"1\" class=\"dataframe\">\n",
       "  <thead>\n",
       "    <tr style=\"text-align: right;\">\n",
       "      <th></th>\n",
       "      <th>Order</th>\n",
       "      <th>Deliverer</th>\n",
       "      <th>Prep Time</th>\n",
       "      <th>Travel Time</th>\n",
       "      <th>Distance</th>\n",
       "    </tr>\n",
       "  </thead>\n",
       "  <tbody>\n",
       "    <tr>\n",
       "      <th>0</th>\n",
       "      <td>1</td>\n",
       "      <td>3</td>\n",
       "      <td>13.0</td>\n",
       "      <td>30.0</td>\n",
       "      <td>13.3</td>\n",
       "    </tr>\n",
       "    <tr>\n",
       "      <th>1</th>\n",
       "      <td>2</td>\n",
       "      <td>1</td>\n",
       "      <td>10.9</td>\n",
       "      <td>17.8</td>\n",
       "      <td>8.6</td>\n",
       "    </tr>\n",
       "    <tr>\n",
       "      <th>2</th>\n",
       "      <td>3</td>\n",
       "      <td>1</td>\n",
       "      <td>9.2</td>\n",
       "      <td>9.2</td>\n",
       "      <td>4.7</td>\n",
       "    </tr>\n",
       "    <tr>\n",
       "      <th>3</th>\n",
       "      <td>4</td>\n",
       "      <td>3</td>\n",
       "      <td>7.2</td>\n",
       "      <td>14.7</td>\n",
       "      <td>4.3</td>\n",
       "    </tr>\n",
       "    <tr>\n",
       "      <th>4</th>\n",
       "      <td>5</td>\n",
       "      <td>2</td>\n",
       "      <td>14.5</td>\n",
       "      <td>21.9</td>\n",
       "      <td>12.2</td>\n",
       "    </tr>\n",
       "    <tr>\n",
       "      <th>...</th>\n",
       "      <td>...</td>\n",
       "      <td>...</td>\n",
       "      <td>...</td>\n",
       "      <td>...</td>\n",
       "      <td>...</td>\n",
       "    </tr>\n",
       "    <tr>\n",
       "      <th>71</th>\n",
       "      <td>72</td>\n",
       "      <td>3</td>\n",
       "      <td>7.0</td>\n",
       "      <td>31.3</td>\n",
       "      <td>8.6</td>\n",
       "    </tr>\n",
       "    <tr>\n",
       "      <th>72</th>\n",
       "      <td>73</td>\n",
       "      <td>1</td>\n",
       "      <td>9.0</td>\n",
       "      <td>3.5</td>\n",
       "      <td>1.5</td>\n",
       "    </tr>\n",
       "    <tr>\n",
       "      <th>73</th>\n",
       "      <td>74</td>\n",
       "      <td>1</td>\n",
       "      <td>13.1</td>\n",
       "      <td>11.9</td>\n",
       "      <td>4.4</td>\n",
       "    </tr>\n",
       "    <tr>\n",
       "      <th>74</th>\n",
       "      <td>75</td>\n",
       "      <td>1</td>\n",
       "      <td>11.0</td>\n",
       "      <td>11.6</td>\n",
       "      <td>3.6</td>\n",
       "    </tr>\n",
       "    <tr>\n",
       "      <th>75</th>\n",
       "      <td>76</td>\n",
       "      <td>2</td>\n",
       "      <td>12.0</td>\n",
       "      <td>7.5</td>\n",
       "      <td>3.3</td>\n",
       "    </tr>\n",
       "  </tbody>\n",
       "</table>\n",
       "<p>76 rows × 5 columns</p>\n",
       "</div>"
      ],
      "text/plain": [
       "    Order  Deliverer  Prep Time  Travel Time  Distance\n",
       "0       1          3       13.0         30.0      13.3\n",
       "1       2          1       10.9         17.8       8.6\n",
       "2       3          1        9.2          9.2       4.7\n",
       "3       4          3        7.2         14.7       4.3\n",
       "4       5          2       14.5         21.9      12.2\n",
       "..    ...        ...        ...          ...       ...\n",
       "71     72          3        7.0         31.3       8.6\n",
       "72     73          1        9.0          3.5       1.5\n",
       "73     74          1       13.1         11.9       4.4\n",
       "74     75          1       11.0         11.6       3.6\n",
       "75     76          2       12.0          7.5       3.3\n",
       "\n",
       "[76 rows x 5 columns]"
      ]
     },
     "execution_count": 51,
     "metadata": {},
     "output_type": "execute_result"
    }
   ],
   "source": [
    "goldenhouse"
   ]
  },
  {
   "cell_type": "code",
   "execution_count": 52,
   "id": "4af8b4c0-34ca-476d-8230-5248e9f3ca6f",
   "metadata": {},
   "outputs": [],
   "source": [
    "# function that returns total time to deliver food from point A to point B\n",
    "def total_time_to_deliver(prep, travel):\n",
    "    return prep + travel"
   ]
  },
  {
   "cell_type": "code",
   "execution_count": 53,
   "id": "5fdf9532-e94e-4406-ab57-fd978fac77ad",
   "metadata": {},
   "outputs": [],
   "source": [
    "#dictionary for containg the total spent time to deliver food per single deliverer.\n",
    "del_time = {1:[],2:[],3:[],4:[]}\n",
    "dis_time = {1:[], 2:[],3:[],4:[]}\n",
    "\n",
    "for number in range(len(goldenhouse['Travel Time'])):\n",
    "    var = round(total_time_to_deliver(goldenhouse['Prep Time'][number], goldenhouse['Travel Time'][number]),1)\n",
    "    del_time[goldenhouse['Deliverer'][number]].append(var)\n",
    "    dis_time[goldenhouse[\"Deliverer\"][number]].append(goldenhouse[\"Distance\"][number])"
   ]
  },
  {
   "cell_type": "code",
   "execution_count": 55,
   "id": "df676f44-1a2a-40e2-878a-1dc9fee40c98",
   "metadata": {},
   "outputs": [
    {
     "data": {
      "text/plain": [
       "<matplotlib.legend.Legend at 0x7f9bc1404610>"
      ]
     },
     "execution_count": 55,
     "metadata": {},
     "output_type": "execute_result"
    },
    {
     "data": {
      "image/png": "[encoded data removed]",
      "text/plain": [
       "<Figure size 432x288 with 1 Axes>"
      ]
     },
     "metadata": {
      "needs_background": "light"
     },
     "output_type": "display_data"
    }
   ],
   "source": [
    "\n",
    "plt.scatter(dis_time[1], del_time[1],label='First deliverer')\n",
    "plt.scatter( dis_time[2], del_time[2],label='Second deliverer')\n",
    "plt.scatter( dis_time[3], del_time[3],label='Third deliverer')\n",
    "plt.scatter( dis_time[4], del_time[4], label='Fourth deliverer')\n",
    "\n",
    "plt.xlabel(\"miles\")\n",
    "plt.ylabel(\"total min to deliver\")\n",
    "plt.legend()"
   ]
  },
  {
   "cell_type": "code",
   "execution_count": null,
   "id": "4e42158d-243b-41c9-b4f4-9d1a82b8f061",
   "metadata": {},
   "outputs": [],
   "source": []
  },
  {
   "cell_type": "code",
   "execution_count": 56,
   "id": "9858f93e-4e74-4ee8-92b5-146b8572598b",
   "metadata": {},
   "outputs": [
    {
     "name": "stdout",
     "output_type": "stream",
     "text": [
      "0.4434\n",
      "0.5023\n",
      "0.3485\n",
      "0.2944\n"
     ]
    }
   ],
   "source": [
    "f_time = round(mean(deliverers[1]),4)\n",
    "print(f_time)\n",
    "s_time = round(mean(deliverers[2]), 4)\n",
    "print(s_time)\n",
    "t_time= round(mean(deliverers[3]),4)\n",
    "print(t_time)\n",
    "fo_time = round(mean(deliverers[4]), 4)\n",
    "print(fo_time)"
   ]
  },
  {
   "cell_type": "code",
   "execution_count": 57,
   "id": "6e6602aa-c66f-402b-b14f-a9ce40c42441",
   "metadata": {},
   "outputs": [
    {
     "name": "stdout",
     "output_type": "stream",
     "text": [
      "\n",
      "Deliverer 2 With the distance of 14.0 miles and time of 42.4 minutes\n",
      "\n",
      "Deliverer 3 With the distance of 13.3 miles and time of 43.0 minutes\n",
      "Deliverer 3 With the distance of 6.9 miles and time of 44.1 minutes\n",
      "\n",
      "Deliverer 4 With the distance of 7.9 miles and time of 44.7 minutes\n",
      "Deliverer 4 With the distance of 11.7 miles and time of 42.8 minutes\n",
      "Deliverer 4 With the distance of 8.9 miles and time of 43.0 minutes\n",
      "Deliverer 4 With the distance of 8.2 miles and time of 44.5 minutes\n",
      "\n"
     ]
    }
   ],
   "source": [
    "# the dictionary will contain total time that is > than M\n",
    "s_time ={1:[],2:[],3:[],4:[]}\n",
    "miles_cov = {1:[],2:[],3:[],4:[]}\n",
    "M = 40\n",
    "for i in range(1,5):\n",
    "    for time in range(len(del_time[i])):\n",
    "        # print(del_time[i][time])\n",
    "        if del_time[i][time] >= M:\n",
    "            s_time[i].append(del_time[i][time])\n",
    "            miles_cov[i].append(dis_time[i][time])\n",
    "            #printing the distance of the cases when it was delivered later than M\n",
    "            print('Deliverer', i, \"With the distance of\", dis_time[i][time], \"miles and time of\", del_time[i][time], \"minutes\")\n",
    "    print()"
   ]
  },
  {
   "cell_type": "code",
   "execution_count": 58,
   "id": "5ed9b890-7236-420e-8680-76119c41f16f",
   "metadata": {},
   "outputs": [
    {
     "data": {
      "text/plain": [
       "<matplotlib.legend.Legend at 0x7f9bb0929280>"
      ]
     },
     "execution_count": 58,
     "metadata": {},
     "output_type": "execute_result"
    },
    {
     "data": {
      "image/png": "[encoded data removed]",
      "text/plain": [
       "<Figure size 432x288 with 1 Axes>"
      ]
     },
     "metadata": {
      "needs_background": "light"
     },
     "output_type": "display_data"
    }
   ],
   "source": [
    "# from matplotlib import pyplot as plt\n",
    "plt.scatter(miles_cov[1], s_time[1], label='First deliverer')\n",
    "plt.scatter(miles_cov[2], s_time[2], label='Second deliverer')\n",
    "plt.scatter(miles_cov[3], s_time[3], label='Third deliverer')\n",
    "plt.scatter(miles_cov[4], s_time[4],label='Fourth deliverer')\n",
    "# plt.scatter(late_dist[4], late_man[4], label = 'Fourth deliverer')\n",
    "plt.xlabel(\"Miles\")\n",
    "plt.ylabel(\"Minutes to deliver\")\n",
    "plt.legend()\n",
    "\n"
   ]
  },
  {
   "cell_type": "code",
   "execution_count": null,
   "id": "257235db-e9ca-45e7-90ca-c7fdf614af9f",
   "metadata": {},
   "outputs": [],
   "source": []
  },
  {
   "cell_type": "code",
   "execution_count": 59,
   "id": "123e42db-09eb-404b-b87c-bfa872b1863b",
   "metadata": {},
   "outputs": [
    {
     "data": {
      "text/plain": [
       "{1: [], 2: [42.4], 3: [43.0, 44.1], 4: [44.7, 42.8, 43.0, 44.5]}"
      ]
     },
     "execution_count": 59,
     "metadata": {},
     "output_type": "execute_result"
    }
   ],
   "source": [
    "s_time"
   ]
  },
  {
   "cell_type": "code",
   "execution_count": 60,
   "id": "07623ee0-ce15-48a6-acc0-cfd751ec466b",
   "metadata": {},
   "outputs": [],
   "source": [
    "#function that returns an expected delivery time, with distance as only needed parameter.\n",
    "def exp_time(distance):\n",
    "    extra_min = 5\n",
    "    exp_delivery_time=(14.8+(2.06 * distance)) + extra_min\n",
    "    return exp_delivery_time"
   ]
  },
  {
   "cell_type": "code",
   "execution_count": 61,
   "id": "5260408b-ee3b-47d8-857b-aa5b3ec18ae9",
   "metadata": {},
   "outputs": [],
   "source": [
    "#late_man is a dict that stores all deliverers and their delivery time which exceeded the predicted time\n",
    "late_man = {1:[], 2:[],3:[],4:[]}\n",
    "late_dist = {1:[],2:[],3:[],4:[]}\n",
    "late_prep = {1:[], 2:[], 3:[],4:[]}\n",
    "\n",
    "for number in range(len(goldenhouse['Travel Time'])):\n",
    "    # the function that outputs total time to deliver including the preparing time.\n",
    "    tt =total_time_to_deliver(goldenhouse['Prep Time'][number], goldenhouse['Travel Time'][number])\n",
    "    \n",
    "    if tt > exp_time(goldenhouse['Distance'][number]):\n",
    "        # print(goldenhouse['Travel Time'][number], goldenhouse[\"Deliverer\"][number])\n",
    "        late_man[goldenhouse[\"Deliverer\"][number]].append(tt)\n",
    "        late_dist[goldenhouse[\"Deliverer\"][number]].append(goldenhouse[\"Distance\"][number])\n",
    "        late_prep[goldenhouse[\"Deliverer\"][number]].append(goldenhouse[\"Prep Time\"][number])"
   ]
  },
  {
   "cell_type": "code",
   "execution_count": 62,
   "id": "40199e45-c4c6-4344-8b96-3e0f4659d093",
   "metadata": {},
   "outputs": [
    {
     "data": {
      "text/plain": [
       "{1: [],\n",
       " 2: [],\n",
       " 3: [28.8, 44.1, 32.5, 33.5, 38.3],\n",
       " 4: [39.5, 32.0, 44.7, 34.1, 36.1, 43.0, 44.5, 32.8]}"
      ]
     },
     "execution_count": 62,
     "metadata": {},
     "output_type": "execute_result"
    }
   ],
   "source": [
    "late_man"
   ]
  },
  {
   "cell_type": "code",
   "execution_count": 63,
   "id": "a630a91d-59fa-47dc-9b80-bb65f703165f",
   "metadata": {},
   "outputs": [
    {
     "data": {
      "text/plain": [
       "{1: [],\n",
       " 2: [],\n",
       " 3: [3.8, 6.9, 5.8, 6.4, 8.6],\n",
       " 4: [3.4, 5.4, 7.9, 5.9, 5.2, 8.9, 8.2, 2.4]}"
      ]
     },
     "execution_count": 63,
     "metadata": {},
     "output_type": "execute_result"
    }
   ],
   "source": [
    "late_dist"
   ]
  },
  {
   "cell_type": "code",
   "execution_count": 64,
   "id": "07b50d31-c044-46e5-a880-329830f6f3ab",
   "metadata": {},
   "outputs": [
    {
     "data": {
      "text/plain": [
       "{1: [],\n",
       " 2: [],\n",
       " 3: [18.0, 14.4, 8.4, 9.7, 7.0],\n",
       " 4: [10.2, 12.5, 15.7, 15.6, 9.9, 14.3, 16.2, 14.2]}"
      ]
     },
     "execution_count": 64,
     "metadata": {},
     "output_type": "execute_result"
    }
   ],
   "source": [
    "late_prep"
   ]
  },
  {
   "cell_type": "code",
   "execution_count": 65,
   "id": "0e75afc2-e640-4f86-b49c-7f10b41bfaa5",
   "metadata": {},
   "outputs": [
    {
     "data": {
      "text/plain": [
       "<matplotlib.legend.Legend at 0x7f9b90008e20>"
      ]
     },
     "execution_count": 65,
     "metadata": {},
     "output_type": "execute_result"
    },
    {
     "data": {
      "image/png": "[encoded data removed]",
      "text/plain": [
       "<Figure size 432x288 with 1 Axes>"
      ]
     },
     "metadata": {
      "needs_background": "light"
     },
     "output_type": "display_data"
    }
   ],
   "source": [
    "# First and second has not came late\n",
    "plt.scatter(late_dist[1],late_man[1], label='First deliverer')\n",
    "plt.scatter(late_dist[2],late_man[2], label='Second deliverer')\n",
    "\n",
    "plt.scatter(late_dist[3],late_man[3], label='Third deliverer')\n",
    "plt.scatter(late_dist[4], late_man[4], label = 'Fourth deliverer')\n",
    "plt.xlabel(\"Miles\")\n",
    "plt.ylabel(\"Minutes to deliver\")\n",
    "plt.legend()"
   ]
  },
  {
   "cell_type": "code",
   "execution_count": null,
   "id": "86ad797f-8278-44ab-ad5d-0bb33ea2b642",
   "metadata": {},
   "outputs": [],
   "source": []
  },
  {
   "cell_type": "code",
   "execution_count": null,
   "id": "a806c7ea-5fc9-480f-b03e-96dd4f689b9c",
   "metadata": {},
   "outputs": [],
   "source": []
  },
  {
   "cell_type": "code",
   "execution_count": null,
   "id": "3ad458dc-a868-4a90-aba1-cc7394d33e86",
   "metadata": {},
   "outputs": [],
   "source": []
  }
 ],
 "metadata": {
  "kernelspec": {
   "display_name": "Python 3 (ipykernel)",
   "language": "python",
   "name": "python3"
  },
  "language_info": {
   "codemirror_mode": {
    "name": "ipython",
    "version": 3
   },
   "file_extension": ".py",
   "mimetype": "text/x-python",
   "name": "python",
   "nbconvert_exporter": "python",
   "pygments_lexer": "ipython3",
   "version": "3.9.12"
  }
 },
 "nbformat": 4,
 "nbformat_minor": 5
}
